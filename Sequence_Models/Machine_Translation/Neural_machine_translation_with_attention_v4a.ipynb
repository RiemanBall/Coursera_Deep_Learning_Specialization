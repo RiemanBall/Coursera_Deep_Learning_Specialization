{
 "cells": [
  {
   "cell_type": "markdown",
   "metadata": {},
   "source": [
    "# Neural Machine Translation\n",
    "\n",
    "Hi! This notebook is adapted from the Machine Translation Assignment in Coursera-Deep Learning Courser, Sequence Model. Most of codes, including the supporting nmt_utils.py, are rewritten to tensorflow-based. I still used a lot Keras functions via tensorflow tho :P.\n",
    "\n",
    "In this notebook, \n",
    "* You will build a Neural Machine Translation (NMT) model to translate human-readable dates (\"25th of June, 2009\") into machine-readable dates (\"2009-06-25\"). \n",
    "* You will do this using an attention model, one of the most sophisticated sequence-to-sequence models. \n",
    "\n",
    "This notebook was produced together with NVIDIA's Deep Learning Institute. "
   ]
  },
  {
   "cell_type": "markdown",
   "metadata": {},
   "source": [
    "Let's load all the packages you will need for this assignment."
   ]
  },
  {
   "cell_type": "code",
   "execution_count": 1,
   "metadata": {},
   "outputs": [
    {
     "name": "stderr",
     "output_type": "stream",
     "text": [
      "Using TensorFlow backend.\n"
     ]
    }
   ],
   "source": [
    "import tensorflow as tf\n",
    "from tensorflow.keras.layers import Bidirectional, Embedding, Input, LSTM, Softmax\n",
    "from tensorflow.keras.layers import Reshape, Dense, RepeatVector, Concatenate, Dot\n",
    "from tensorflow.keras.optimizers import Adam\n",
    "from tensorflow.keras.utils import to_categorical\n",
    "from tensorflow.keras import Model\n",
    "from tensorflow.keras.models import load_model\n",
    "import numpy as np\n",
    "\n",
    "from faker import Faker\n",
    "import random\n",
    "from tqdm import tqdm\n",
    "from babel.dates import format_date\n",
    "from nmt_utils import *\n",
    "import matplotlib.pyplot as plt\n"
   ]
  },
  {
   "cell_type": "code",
   "execution_count": 2,
   "metadata": {},
   "outputs": [],
   "source": [
    "%matplotlib inline\n",
    "\n",
    "%load_ext autoreload\n",
    "%autoreload 2"
   ]
  },
  {
   "cell_type": "markdown",
   "metadata": {},
   "source": [
    "## 1 - Translating human readable dates into machine readable dates\n",
    "\n",
    "* The model you will build here could be used to translate from one language to another, such as translating from English to Hindi. \n",
    "* However, language translation requires massive datasets and usually takes days of training on GPUs. \n",
    "* To give you a place to experiment with these models without using massive datasets, we will perform a simpler \"date translation\" task. \n",
    "* The network will input a date written in a variety of possible formats (*e.g. \"the 29th of August 1958\", \"03/30/1968\", \"24 JUNE 1987\"*) \n",
    "* The network will translate them into standardized, machine readable dates (*e.g. \"1958-08-29\", \"1968-03-30\", \"1987-06-24\"*). \n",
    "* We will have the network learn to output dates in the common machine-readable format YYYY-MM-DD. \n",
    "\n",
    "<!-- \n",
    "Take a look at [nmt_utils.py](./nmt_utils.py) to see all the formatting. Count and figure out how the formats work, you will need this knowledge later. !--> "
   ]
  },
  {
   "cell_type": "markdown",
   "metadata": {},
   "source": [
    "### 1.1 - Dataset\n",
    "\n",
    "We will train the model on a dataset of 10,000 human readable dates and their equivalent, standardized, machine readable dates. Let's run the following cells to load the dataset and print some examples. "
   ]
  },
  {
   "cell_type": "code",
   "execution_count": 3,
   "metadata": {},
   "outputs": [
    {
     "name": "stderr",
     "output_type": "stream",
     "text": [
      "100%|██████████| 10000/10000 [00:00<00:00, 23184.31it/s]\n"
     ]
    }
   ],
   "source": [
    "m = 10000\n",
    "dataset, human_vocab, machine_vocab, inv_machine_vocab = load_dataset(m)"
   ]
  },
  {
   "cell_type": "code",
   "execution_count": 4,
   "metadata": {},
   "outputs": [
    {
     "data": {
      "text/plain": [
       "[('9 may 1998', '1998-05-09'),\n",
       " ('10.11.19', '2019-11-10'),\n",
       " ('9/10/70', '1970-09-10'),\n",
       " ('saturday april 28 1990', '1990-04-28'),\n",
       " ('thursday january 26 1995', '1995-01-26'),\n",
       " ('monday march 7 1983', '1983-03-07'),\n",
       " ('sunday may 22 1988', '1988-05-22'),\n",
       " ('08 jul 2008', '2008-07-08'),\n",
       " ('8 sep 1999', '1999-09-08'),\n",
       " ('thursday january 1 1981', '1981-01-01')]"
      ]
     },
     "execution_count": 4,
     "metadata": {},
     "output_type": "execute_result"
    }
   ],
   "source": [
    "dataset[:10]"
   ]
  },
  {
   "cell_type": "markdown",
   "metadata": {},
   "source": [
    "You've loaded:\n",
    "- `dataset`: a list of tuples of (human readable date, machine readable date).\n",
    "- `human_vocab`: a python dictionary mapping all characters used in the human readable dates to an integer-valued index.\n",
    "- `machine_vocab`: a python dictionary mapping all characters used in machine readable dates to an integer-valued index. \n",
    "    - **Note**: These indices are not necessarily consistent with `human_vocab`. \n",
    "- `inv_machine_vocab`: the inverse dictionary of `machine_vocab`, mapping from indices back to characters. \n",
    "\n",
    "Let's preprocess the data and map the raw text data into the index values. \n",
    "- We will set Tx=30 \n",
    "    - We assume Tx is the maximum length of the human readable date.\n",
    "    - If we get a longer input, we would have to truncate it.\n",
    "- We will set Ty=10\n",
    "    - \"YYYY-MM-DD\" is 10 characters long."
   ]
  },
  {
   "cell_type": "code",
   "execution_count": 5,
   "metadata": {},
   "outputs": [
    {
     "name": "stdout",
     "output_type": "stream",
     "text": [
      "X.shape: (10000, 30)\n",
      "Y.shape: (10000, 10)\n",
      "Xoh.shape: (10000, 30, 37)\n",
      "Yoh.shape: (10000, 10, 11)\n"
     ]
    }
   ],
   "source": [
    "Tx = 30\n",
    "Ty = 10\n",
    "X, Y, Xoh, Yoh = preprocess_data(dataset, human_vocab, machine_vocab, Tx, Ty)\n",
    "\n",
    "print(\"X.shape:\", X.shape)\n",
    "print(\"Y.shape:\", Y.shape)\n",
    "print(\"Xoh.shape:\", Xoh.shape)\n",
    "print(\"Yoh.shape:\", Yoh.shape)"
   ]
  },
  {
   "cell_type": "markdown",
   "metadata": {},
   "source": [
    "You now have:\n",
    "- `X`: a processed version of the human readable dates in the training set.\n",
    "    - Each character in X is replaced by an index (integer) mapped to the character using `human_vocab`. \n",
    "    - Each date is padded to ensure a length of $T_x$ using a special character (< pad >). \n",
    "    - `X.shape = (m, Tx)` where m is the number of training examples in a batch.\n",
    "- `Y`: a processed version of the machine readable dates in the training set.\n",
    "    - Each character is replaced by the index (integer) it is mapped to in `machine_vocab`. \n",
    "    - `Y.shape = (m, Ty)`. \n",
    "- `Xoh`: one-hot version of `X`\n",
    "    - Each index in `X` is converted to the one-hot representation (if the index is 2, the one-hot version has the index position 2 set to 1, and the remaining positions are 0.\n",
    "    - `Xoh.shape = (m, Tx, len(human_vocab))`\n",
    "- `Yoh`: one-hot version of `Y`\n",
    "    - Each index in `Y` is converted to the one-hot representation. \n",
    "    - `Yoh.shape = (m, Tx, len(machine_vocab))`. \n",
    "    - `len(machine_vocab) = 11` since there are 10 numeric digits (0 to 9) and the `-` symbol."
   ]
  },
  {
   "cell_type": "markdown",
   "metadata": {},
   "source": [
    "* Let's also look at some examples of preprocessed training examples. \n",
    "* Feel free to play with `index` in the cell below to navigate the dataset and see how source/target dates are preprocessed. "
   ]
  },
  {
   "cell_type": "code",
   "execution_count": 6,
   "metadata": {},
   "outputs": [
    {
     "name": "stdout",
     "output_type": "stream",
     "text": [
      "Source date: 9 may 1998\n",
      "Target date: 1998-05-09\n",
      "\n",
      "Source after preprocessing (indices): [12  0 24 13 34  0  4 12 12 11 36 36 36 36 36 36 36 36 36 36 36 36 36 36\n",
      " 36 36 36 36 36 36]\n",
      "Target after preprocessing (indices): [ 2 10 10  9  0  1  6  0  1 10]\n",
      "\n",
      "Source after preprocessing (one-hot): [[0. 0. 0. ... 0. 0. 0.]\n",
      " [1. 0. 0. ... 0. 0. 0.]\n",
      " [0. 0. 0. ... 0. 0. 0.]\n",
      " ...\n",
      " [0. 0. 0. ... 0. 0. 1.]\n",
      " [0. 0. 0. ... 0. 0. 1.]\n",
      " [0. 0. 0. ... 0. 0. 1.]]\n",
      "Target after preprocessing (one-hot): [[0. 0. 1. 0. 0. 0. 0. 0. 0. 0. 0.]\n",
      " [0. 0. 0. 0. 0. 0. 0. 0. 0. 0. 1.]\n",
      " [0. 0. 0. 0. 0. 0. 0. 0. 0. 0. 1.]\n",
      " [0. 0. 0. 0. 0. 0. 0. 0. 0. 1. 0.]\n",
      " [1. 0. 0. 0. 0. 0. 0. 0. 0. 0. 0.]\n",
      " [0. 1. 0. 0. 0. 0. 0. 0. 0. 0. 0.]\n",
      " [0. 0. 0. 0. 0. 0. 1. 0. 0. 0. 0.]\n",
      " [1. 0. 0. 0. 0. 0. 0. 0. 0. 0. 0.]\n",
      " [0. 1. 0. 0. 0. 0. 0. 0. 0. 0. 0.]\n",
      " [0. 0. 0. 0. 0. 0. 0. 0. 0. 0. 1.]]\n"
     ]
    }
   ],
   "source": [
    "index = 0\n",
    "print(\"Source date:\", dataset[index][0])\n",
    "print(\"Target date:\", dataset[index][1])\n",
    "print()\n",
    "print(\"Source after preprocessing (indices):\", X[index])\n",
    "print(\"Target after preprocessing (indices):\", Y[index])\n",
    "print()\n",
    "print(\"Source after preprocessing (one-hot):\", Xoh[index])\n",
    "print(\"Target after preprocessing (one-hot):\", Yoh[index])"
   ]
  },
  {
   "cell_type": "markdown",
   "metadata": {},
   "source": [
    "## 2 - Neural machine translation with attention\n",
    "\n",
    "* If you had to translate a book's paragraph from French to English, you would not read the whole paragraph, then close the book and translate. \n",
    "* Even during the translation process, you would read/re-read and focus on the parts of the French paragraph corresponding to the parts of the English you are writing down. \n",
    "* The attention mechanism tells a Neural Machine Translation model where it should pay attention to at any step. \n",
    "\n",
    "\n",
    "### 2.1 - Attention mechanism\n",
    "\n",
    "In this part, you will implement the attention mechanism presented in the lecture videos. \n",
    "* Here is a figure to remind you how the model works. The exact implementation is slightly different from the figure.\n",
    "    * The diagram on the left shows the attention model. \n",
    "    * The diagram on the right shows what one \"attention\" step does to calculate the attention variables $\\alpha^{\\langle t, t' \\rangle}$.\n",
    "    * The attention variables $\\alpha^{\\langle t, t' \\rangle}$ are used to compute the context variable $context^{\\langle t \\rangle}$ for each timestep in the output ($t=1, \\ldots, T_y$). \n",
    "\n",
    "<table>\n",
    "<td> \n",
    "<img src=\"images/attn_model.png\" style=\"width:500;height:500px;\"> <br>\n",
    "</td> \n",
    "<td> \n",
    "<img src=\"images/attn_mechanism.png\" style=\"width:500;height:500px;\"> <br>\n",
    "</td> \n",
    "</table>\n",
    "<caption><center> **Figure 1**: Neural machine translation with attention</center></caption>\n"
   ]
  },
  {
   "cell_type": "markdown",
   "metadata": {},
   "source": [
    "Here are some properties of the model that you may notice: \n",
    "\n",
    "#### Pre-attention and Post-attention LSTMs on both sides of the attention mechanism\n",
    "- There are two separate LSTMs in this model (see diagram on the left): pre-attention and post-attention LSTMs.\n",
    "- *Pre-attention* Bi-LSTM is the one at the bottom of the picture is a Bi-directional LSTM and comes *before* the attention mechanism.\n",
    "    - The attention mechanism is shown in the middle of the left-hand diagram.\n",
    "    - The pre-attention Bi-LSTM goes through $T_x$ time steps\n",
    "- *Post-attention* LSTM: at the top of the diagram comes *after* the attention mechanism. \n",
    "    - The post-attention LSTM goes through $T_y$ time steps. \n",
    "\n",
    "- The post-attention LSTM passes the hidden state $s^{\\langle t \\rangle}$ and cell state $c^{\\langle t \\rangle}$ from one time step to the next. "
   ]
  },
  {
   "cell_type": "markdown",
   "metadata": {},
   "source": [
    "#### An LSTM has both a hidden state and cell state\n",
    "* In the lecture videos, we were using only a basic RNN for the post-attention sequence model\n",
    "    * This means that the state captured by the RNN was outputting only the hidden state $s^{\\langle t\\rangle}$. \n",
    "* In this assignment, we are using an LSTM instead of a basic RNN.\n",
    "    * So the LSTM has both the hidden state $s^{\\langle t\\rangle}$ and the cell state $c^{\\langle t\\rangle}$. "
   ]
  },
  {
   "cell_type": "markdown",
   "metadata": {},
   "source": [
    "#### Each time step does not use predictions from the previous time step\n",
    "* Unlike previous text generation examples earlier in the course, in this model, the post-attention LSTM at time $t$ does not take the previous time step's prediction $y^{\\langle t-1 \\rangle}$ as input.\n",
    "* The post-attention LSTM at time 't' only takes the hidden state $s^{\\langle t\\rangle}$ and cell state $c^{\\langle t\\rangle}$ as input. \n",
    "* We have designed the model this way because unlike language generation (where adjacent characters are highly correlated) there isn't as strong a dependency between the previous character and the next character in a YYYY-MM-DD date."
   ]
  },
  {
   "cell_type": "markdown",
   "metadata": {},
   "source": [
    "#### Concatenation of hidden states from the forward and backward pre-attention LSTMs\n",
    "- $\\overrightarrow{a}^{\\langle t \\rangle}$: hidden state of the forward-direction, pre-attention LSTM.\n",
    "- $\\overleftarrow{a}^{\\langle t \\rangle}$: hidden state of the backward-direction, pre-attention LSTM.\n",
    "- $a^{\\langle t \\rangle} = [\\overrightarrow{a}^{\\langle t \\rangle}, \\overleftarrow{a}^{\\langle t \\rangle}]$: the concatenation of the activations of both the forward-direction $\\overrightarrow{a}^{\\langle t \\rangle}$ and backward-directions $\\overleftarrow{a}^{\\langle t \\rangle}$ of the pre-attention Bi-LSTM. "
   ]
  },
  {
   "cell_type": "markdown",
   "metadata": {},
   "source": [
    "#### Computing \"energies\" $e^{\\langle t, t' \\rangle}$ as a function of $s^{\\langle t-1 \\rangle}$ and $a^{\\langle t' \\rangle}$\n",
    "- Recall in the lesson videos \"Attention Model\", at time 6:45 to 8:16, the definition of \"e\" as a function of $s^{\\langle t-1 \\rangle}$ and $a^{\\langle t \\rangle}$.\n",
    "    - \"e\" is called the \"energies\" variable.\n",
    "    - $s^{\\langle t-1 \\rangle}$ is the hidden state of the post-attention LSTM\n",
    "    - $a^{\\langle t' \\rangle}$ is the hidden state of the pre-attention LSTM.\n",
    "    - $s^{\\langle t-1 \\rangle}$ and $a^{\\langle t \\rangle}$ are fed into a simple neural network, which learns the function to output $e^{\\langle t, t' \\rangle}$.\n",
    "    - $e^{\\langle t, t' \\rangle}$ is then used when computing the attention $a^{\\langle t, t' \\rangle}$ that $y^{\\langle t \\rangle}$ should pay to $a^{\\langle t' \\rangle}$."
   ]
  },
  {
   "cell_type": "markdown",
   "metadata": {},
   "source": [
    "- The diagram on the right of figure 1 uses a `RepeatVector` node to copy $s^{\\langle t-1 \\rangle}$'s value $T_x$ times.\n",
    "- Then it uses `Concatenation` to concatenate $s^{\\langle t-1 \\rangle}$ and $a^{\\langle t \\rangle}$.\n",
    "- The concatenation of $s^{\\langle t-1 \\rangle}$ and $a^{\\langle t \\rangle}$ is fed into a \"Dense\" layer, which computes $e^{\\langle t, t' \\rangle}$. \n",
    "- $e^{\\langle t, t' \\rangle}$ is then passed through a softmax to compute $\\alpha^{\\langle t, t' \\rangle}$.\n",
    "- Note that the diagram doesn't explicitly show variable $e^{\\langle t, t' \\rangle}$, but $e^{\\langle t, t' \\rangle}$ is above the Dense layer and below the Softmax layer in the diagram in the right half of figure 1.\n",
    "- We'll explain how to use `RepeatVector` and `Concatenation` in Keras below. "
   ]
  },
  {
   "cell_type": "markdown",
   "metadata": {},
   "source": [
    "### Implementation Details\n",
    "   \n",
    "Let's implement this neural translator. You will start by implementing two functions: `one_step_attention()` and `model()`.\n",
    "\n",
    "#### one_step_attention\n",
    "* The inputs to the one_step_attention at time step $t$ are:\n",
    "    - $[a^{<1>},a^{<2>}, ..., a^{<T_x>}]$: all hidden states of the pre-attention Bi-LSTM.\n",
    "    - $s^{<t-1>}$: the previous hidden state of the post-attention LSTM \n",
    "* one_step_attention computes:\n",
    "    - $[\\alpha^{<t,1>},\\alpha^{<t,2>}, ..., \\alpha^{<t,T_x>}]$: the attention weights\n",
    "    - $context^{ \\langle t \\rangle }$: the context vector:\n",
    "    \n",
    "$$context^{<t>} = \\sum_{t' = 1}^{T_x} \\alpha^{<t,t'>}a^{<t'>}\\tag{1}$$ \n",
    "\n",
    "##### Clarifying 'context' and 'c'\n",
    "- In the lecture videos, the context was denoted $c^{\\langle t \\rangle}$\n",
    "- In the assignment, we are calling the context $context^{\\langle t \\rangle}$.\n",
    "    - This is to avoid confusion with the post-attention LSTM's internal memory cell variable, which is also denoted $c^{\\langle t \\rangle}$."
   ]
  },
  {
   "cell_type": "markdown",
   "metadata": {},
   "source": [
    "#### Implement `one_step_attention`\n",
    "\n",
    "**Exercise**: Implement `one_step_attention()`. \n",
    "\n",
    "* The function `model()` will call the layers in `one_step_attention()` $T_y$ using a for-loop.\n",
    "* It is important that all $T_y$ copies have the same weights. \n",
    "    * It should not reinitialize the weights every time. \n",
    "    * In other words, all $T_y$ steps should have shared weights. \n",
    "* Here's how you can implement layers with shareable weights in Keras:\n",
    "    1. Define the layer objects in a variable scope that is outside of the `one_step_attention` function.  For example, defining the objects as global variables would work.\n",
    "        - Note that defining these variables inside the scope of the function `model` would technically work, since `model` will then call the `one_step_attention` function.  For the purposes of making grading and troubleshooting easier, we are defining these as global variables.\n",
    "    2. Call these objects when propagating the input."
   ]
  },
  {
   "cell_type": "code",
   "execution_count": 7,
   "metadata": {},
   "outputs": [],
   "source": [
    "# Defined shared layers as global variables\n",
    "dense1 = Dense(32, kernel_regularizer = 'l2', name = 'atten_W_a')\n",
    "dense2 = Dense(32, kernel_regularizer = 'l2', name = 'atten_W_t')\n",
    "scorer = Dense(1, activation = 'tanh', name = 'atten_scores')\n",
    "softmaxer = Softmax(axis = 1, name = 'attention_weights')\n",
    "repeater = RepeatVector(Tx)\n",
    "dotor1 = Dot(axes = -1)\n",
    "dotor2 = Dot(axes = 1)\n"
   ]
  },
  {
   "cell_type": "code",
   "execution_count": 8,
   "metadata": {},
   "outputs": [],
   "source": [
    "# GRADED FUNCTION: one_step_attention\n",
    "\n",
    "def one_step_attention(a, ht_prev):\n",
    "    \"\"\"\n",
    "    Performs one step of attention: Outputs a context vector computed as a dot \n",
    "    product of the attention weights \"alphas\" and the hidden states \"a\" of the Bi-LSTM.\n",
    "    \n",
    "    Arguments:\n",
    "    a -- hidden state output of the Bi-LSTM, numpy-array of shape (m, Tx, 2*n_a)\n",
    "    ht_prev -- previous hidden state of the (post-attention) LSTM, numpy-array \n",
    "    of shape (m, n_t)\n",
    "    \n",
    "    Returns:\n",
    "    context -- context vector, input of the next (post-attention) LSTM cell\n",
    "    \"\"\"\n",
    "    # After reshape: (m, 1, n_s)\n",
    "    ht_prev = tf.expand_dims(ht_prev, axis = 1)\n",
    "    \n",
    "    # shape of scores: (m, Tx, 1)\n",
    "    scores = scorer(dense1(a) + dense2(ht_prev))\n",
    "    \n",
    "    # shape: (m, Tx, 1)\n",
    "    attention_weights = softmaxer(scores)\n",
    "    \n",
    "    # shape: (m, 1, 2 * n_a)\n",
    "    context = dotor2([attention_weights, a])\n",
    "    \n",
    "    return context"
   ]
  },
  {
   "cell_type": "markdown",
   "metadata": {},
   "source": [
    "You will be able to check the expected output of `one_step_attention()` after you've coded the `model()` function."
   ]
  },
  {
   "cell_type": "markdown",
   "metadata": {},
   "source": [
    "#### model\n",
    "* `model` first runs the input to an embedding layer, then feed the embedded input through a Bi-LSTM to get $[a^{<1>},a^{<2>}, ..., a^{<T_x>}]$. \n",
    "* Then, `model` calls `one_step_attention()` $T_y$ times using a `for` loop.  At each iteration of this loop:\n",
    "    - It gives the computed context vector $context^{<t>}$ to the post-attention LSTM.\n",
    "    - It runs the output of the post-attention LSTM through a dense layer with softmax activation.\n",
    "    - The softmax generates a prediction $\\hat{y}^{<t>}$. "
   ]
  },
  {
   "cell_type": "markdown",
   "metadata": {},
   "source": [
    "**Exercise**: Implement `model()` as explained in the text above. Again, we have defined global layers that will share weights to be used in `model()`."
   ]
  },
  {
   "cell_type": "markdown",
   "metadata": {},
   "source": [
    "Now you can use these layers $T_y$ times in a `for` loop to generate the outputs, and their parameters will not be reinitialized. You will have to carry out the following steps: \n",
    "\n",
    "1. Embedding the input `X` to get embedded vector `embedded`.\n",
    "\n",
    "2. Propagate the input `embedded` into a bi-directional LSTM.\n",
    "    * [Bidirectional](https://keras.io/layers/wrappers/#bidirectional) \n",
    "    * [LSTM](https://keras.io/layers/recurrent/#lstm)\n",
    "    * Remember that we want the LSTM to return a full sequence instead of just the last hidden state.  \n",
    "    \n",
    "Sample code:\n",
    "\n",
    "```Python\n",
    "sequence_of_hidden_states = Bidirectional(LSTM(units=..., return_sequences=...))(the_input_X)\n",
    "```\n",
    "    \n",
    "3. Iterate for $t = 0, \\cdots, T_y-1$: \n",
    "    1. Call `one_step_attention()`, passing in the sequence of hidden states $[a^{\\langle 1 \\rangle},a^{\\langle 2 \\rangle}, ..., a^{ \\langle T_x \\rangle}]$ from the pre-attention bi-directional LSTM, and the previous hidden state $s^{<t-1>}$ from the post-attention LSTM to calculate the context vector $context^{<t>}$.\n",
    "    2. Give $context^{<t>}$ to the post-attention LSTM cell. \n",
    "        - Remember to pass in the previous hidden-state $s^{\\langle t-1\\rangle}$ and cell-states $c^{\\langle t-1\\rangle}$ of this LSTM \n",
    "        * This outputs the new hidden state $s^{<t>}$ and the new cell state $c^{<t>}$.  \n",
    "\n",
    "        Sample code:\n",
    "        ```Python\n",
    "        next_hidden_state, _ , next_cell_state = \n",
    "            post_activation_LSTM_cell(inputs=..., initial_state=[prev_hidden_state, prev_cell_state])\n",
    "        ```   \n",
    "        \n",
    "    3. Apply a dense, softmax layer to $s^{<t>}$, get the output.  \n",
    "        Sample code:\n",
    "        ```Python\n",
    "        output = output_layer(inputs=...)\n",
    "        ```\n",
    "    4. Save the output by adding it to the list of outputs.\n",
    "\n",
    "4. Create your Keras model instance.\n",
    "    * It should have one input:\n",
    "        * `X`, the inputs in index representation to the model, of shape ($T_{x}, )$\n",
    "        \n",
    "    * The output is the list of outputs.  \n",
    "    Sample code\n",
    "    ```Python\n",
    "    model = Model(inputs=[...,...,...], outputs=...)\n",
    "    ```"
   ]
  },
  {
   "cell_type": "code",
   "execution_count": 9,
   "metadata": {},
   "outputs": [],
   "source": [
    "n_a = 64 # number of units for the pre-attention, bi-directional LSTM's hidden state 'a'\n",
    "n_t = 2 * n_a # number of units for the post-attention LSTM's hidden state \"t\"\n",
    "dp_rate = 0.0\n",
    "embed_dim = 16\n",
    "\n",
    "# Post attention LSTM cell.\n",
    "post_activation_LSTM_cell = LSTM(n_t, return_state = True, dropout = dp_rate) # post-attention LSTM \n",
    "output_layer = Dense(len(machine_vocab), activation='softmax', name = 'output_layer')\n",
    "concat = Concatenate()\n",
    "reshaper = Reshape((n_t,))"
   ]
  },
  {
   "cell_type": "code",
   "execution_count": 10,
   "metadata": {},
   "outputs": [],
   "source": [
    "# GRADED FUNCTION: model\n",
    "\n",
    "def nmt_model(Tx, Ty, n_a, n_t, human_vocab_size, machine_vocab_size, \n",
    "          dp_rate = 0.5, embed_dim = 128):\n",
    "    \"\"\"\n",
    "    Arguments:\n",
    "    Tx -- length of the input sequence\n",
    "    Ty -- length of the output sequence\n",
    "    n_a -- hidden state size of the Bi-LSTM encoder\n",
    "    n_t -- hidden state size of the post-attention LSTM decoder\n",
    "    human_vocab_size -- size of the python dictionary \"human_vocab\"\n",
    "    machine_vocab_size -- size of the python dictionary \"machine_vocab\"\n",
    "    dp_rate -- dropout rate of dropping for the linear transformation of the inputs for LSTM\n",
    "    embed_dim -- dimension of embedded output\n",
    "\n",
    "    Returns:\n",
    "    model -- TF model instance\n",
    "    \"\"\"\n",
    "    \n",
    "    # Define the inputs of the model with a shape (Tx,)\n",
    "    X = Input(shape=(Tx,))\n",
    "    \n",
    "    # Initialize empty list of outputs\n",
    "    outputs = []\n",
    "    \n",
    "    # Encoder\n",
    "    embedded = Embedding(input_dim = human_vocab_size, output_dim = embed_dim)(X)\n",
    "    \n",
    "    # Step 1: Define pre-attention Bi-LSTM as encoder. Use return_sequences=True.\n",
    "    a, fwd_h, fwd_c, bwd_h, bwd_c = Bidirectional(LSTM(n_a,\n",
    "                                                       return_sequences = True,\n",
    "                                                       return_state = True,\n",
    "                                                       dropout = dp_rate),\n",
    "                                                  input_shape = (Tx, embed_dim))(embedded)\n",
    "    \n",
    "    # Use the final hidden state and cell memory from the encoder as the initial hidden state \n",
    "    # and cell memory of the decoder\n",
    "    h_t = concat([fwd_h, bwd_h])\n",
    "    c_t = concat([fwd_c, bwd_c])\n",
    "    \n",
    "    # Step 2: Iterate for Ty steps\n",
    "    for t in range(Ty):\n",
    "        # Step 2.A: Perform one step of the attention mechanism to get back the context \n",
    "        # vector at step t\n",
    "        # Shape: (m, 1, 2 * n_a)\n",
    "        context = one_step_attention(a, h_t)\n",
    "        \n",
    "        # Step 3.A: Apply the post-attention LSTM cell as decoder to the \"context\" vector.\n",
    "        # Don't forget to pass: initial_state = [hidden state, cell state]\n",
    "        # shape of out: (m, 1, n_t)\n",
    "        out, h_t, c_t = post_activation_LSTM_cell(context, initial_state = [h_t, c_t] ) \n",
    "        \n",
    "        # Step 3.B: Apply Dense layer to the hidden state output of the post-attention LSTM\n",
    "        # Shape of out: (m, n_t)\n",
    "        out = reshaper(out)\n",
    "        # Shape of out: (m, machine_vocab_size)\n",
    "        out = output_layer(out)\n",
    "        \n",
    "        # Step 3.C: Append \"out\" to the \"outputs\" list (≈ 1 line)\n",
    "        outputs.append(out)\n",
    "    \n",
    "    # Step 3: Create model instance taking three inputs and returning the list of outputs. \n",
    "    model = Model(inputs = X, outputs = outputs)\n",
    "    \n",
    "    return model"
   ]
  },
  {
   "cell_type": "markdown",
   "metadata": {},
   "source": [
    "Run the following cell to create your model."
   ]
  },
  {
   "cell_type": "code",
   "execution_count": 11,
   "metadata": {},
   "outputs": [],
   "source": [
    "model = nmt_model(Tx, Ty, n_a, n_t, len(human_vocab), len(machine_vocab), dp_rate, embed_dim)"
   ]
  },
  {
   "cell_type": "markdown",
   "metadata": {},
   "source": [
    "#### Troubleshooting Note\n",
    "* If you are getting repeated errors after an initially incorrect implementation of \"model\", but believe that you have corrected the error, you may still see error messages when building your model.  \n",
    "* A solution is to save and restart your kernel (or shutdown then restart your notebook), and re-run the cells."
   ]
  },
  {
   "cell_type": "markdown",
   "metadata": {},
   "source": [
    "Let's get a summary of the model to check if it matches the expected output."
   ]
  },
  {
   "cell_type": "code",
   "execution_count": 12,
   "metadata": {},
   "outputs": [
    {
     "name": "stdout",
     "output_type": "stream",
     "text": [
      "Model: \"model\"\n",
      "__________________________________________________________________________________________________\n",
      "Layer (type)                    Output Shape         Param #     Connected to                     \n",
      "==================================================================================================\n",
      "input_1 (InputLayer)            [(None, 30)]         0                                            \n",
      "__________________________________________________________________________________________________\n",
      "embedding (Embedding)           (None, 30, 16)       592         input_1[0][0]                    \n",
      "__________________________________________________________________________________________________\n",
      "bidirectional (Bidirectional)   [(None, 30, 128), (N 41472       embedding[0][0]                  \n",
      "__________________________________________________________________________________________________\n",
      "concatenate (Concatenate)       (None, 128)          0           bidirectional[0][1]              \n",
      "                                                                 bidirectional[0][3]              \n",
      "                                                                 bidirectional[0][2]              \n",
      "                                                                 bidirectional[0][4]              \n",
      "__________________________________________________________________________________________________\n",
      "tf_op_layer_ExpandDims (TensorF [(None, 1, 128)]     0           concatenate[0][0]                \n",
      "__________________________________________________________________________________________________\n",
      "atten_W_a (Dense)               (None, 30, 32)       4128        bidirectional[0][0]              \n",
      "                                                                 bidirectional[0][0]              \n",
      "                                                                 bidirectional[0][0]              \n",
      "                                                                 bidirectional[0][0]              \n",
      "                                                                 bidirectional[0][0]              \n",
      "                                                                 bidirectional[0][0]              \n",
      "                                                                 bidirectional[0][0]              \n",
      "                                                                 bidirectional[0][0]              \n",
      "                                                                 bidirectional[0][0]              \n",
      "                                                                 bidirectional[0][0]              \n",
      "__________________________________________________________________________________________________\n",
      "atten_W_t (Dense)               (None, 1, 32)        4128        tf_op_layer_ExpandDims[0][0]     \n",
      "                                                                 tf_op_layer_ExpandDims_1[0][0]   \n",
      "                                                                 tf_op_layer_ExpandDims_2[0][0]   \n",
      "                                                                 tf_op_layer_ExpandDims_3[0][0]   \n",
      "                                                                 tf_op_layer_ExpandDims_4[0][0]   \n",
      "                                                                 tf_op_layer_ExpandDims_5[0][0]   \n",
      "                                                                 tf_op_layer_ExpandDims_6[0][0]   \n",
      "                                                                 tf_op_layer_ExpandDims_7[0][0]   \n",
      "                                                                 tf_op_layer_ExpandDims_8[0][0]   \n",
      "                                                                 tf_op_layer_ExpandDims_9[0][0]   \n",
      "__________________________________________________________________________________________________\n",
      "tf_op_layer_AddV2 (TensorFlowOp [(None, 30, 32)]     0           atten_W_a[0][0]                  \n",
      "                                                                 atten_W_t[0][0]                  \n",
      "__________________________________________________________________________________________________\n",
      "atten_scores (Dense)            (None, 30, 1)        33          tf_op_layer_AddV2[0][0]          \n",
      "                                                                 tf_op_layer_AddV2_1[0][0]        \n",
      "                                                                 tf_op_layer_AddV2_2[0][0]        \n",
      "                                                                 tf_op_layer_AddV2_3[0][0]        \n",
      "                                                                 tf_op_layer_AddV2_4[0][0]        \n",
      "                                                                 tf_op_layer_AddV2_5[0][0]        \n",
      "                                                                 tf_op_layer_AddV2_6[0][0]        \n",
      "                                                                 tf_op_layer_AddV2_7[0][0]        \n",
      "                                                                 tf_op_layer_AddV2_8[0][0]        \n",
      "                                                                 tf_op_layer_AddV2_9[0][0]        \n",
      "__________________________________________________________________________________________________\n",
      "attention_weights (Softmax)     (None, 30, 1)        0           atten_scores[0][0]               \n",
      "                                                                 atten_scores[1][0]               \n",
      "                                                                 atten_scores[2][0]               \n",
      "                                                                 atten_scores[3][0]               \n",
      "                                                                 atten_scores[4][0]               \n",
      "                                                                 atten_scores[5][0]               \n",
      "                                                                 atten_scores[6][0]               \n",
      "                                                                 atten_scores[7][0]               \n",
      "                                                                 atten_scores[8][0]               \n",
      "                                                                 atten_scores[9][0]               \n",
      "__________________________________________________________________________________________________\n",
      "dot_1 (Dot)                     (None, 1, 128)       0           attention_weights[0][0]          \n",
      "                                                                 bidirectional[0][0]              \n",
      "                                                                 attention_weights[1][0]          \n",
      "                                                                 bidirectional[0][0]              \n",
      "                                                                 attention_weights[2][0]          \n",
      "                                                                 bidirectional[0][0]              \n",
      "                                                                 attention_weights[3][0]          \n",
      "                                                                 bidirectional[0][0]              \n",
      "                                                                 attention_weights[4][0]          \n",
      "                                                                 bidirectional[0][0]              \n",
      "                                                                 attention_weights[5][0]          \n",
      "                                                                 bidirectional[0][0]              \n",
      "                                                                 attention_weights[6][0]          \n",
      "                                                                 bidirectional[0][0]              \n",
      "                                                                 attention_weights[7][0]          \n",
      "                                                                 bidirectional[0][0]              \n",
      "                                                                 attention_weights[8][0]          \n",
      "                                                                 bidirectional[0][0]              \n",
      "                                                                 attention_weights[9][0]          \n",
      "                                                                 bidirectional[0][0]              \n",
      "__________________________________________________________________________________________________\n",
      "lstm (LSTM)                     [(None, 128), (None, 131584      dot_1[0][0]                      \n",
      "                                                                 concatenate[0][0]                \n",
      "                                                                 concatenate[1][0]                \n",
      "                                                                 dot_1[1][0]                      \n",
      "                                                                 lstm[0][1]                       \n",
      "                                                                 lstm[0][2]                       \n",
      "                                                                 dot_1[2][0]                      \n",
      "                                                                 lstm[1][1]                       \n",
      "                                                                 lstm[1][2]                       \n",
      "                                                                 dot_1[3][0]                      \n",
      "                                                                 lstm[2][1]                       \n",
      "                                                                 lstm[2][2]                       \n",
      "                                                                 dot_1[4][0]                      \n",
      "                                                                 lstm[3][1]                       \n",
      "                                                                 lstm[3][2]                       \n",
      "                                                                 dot_1[5][0]                      \n",
      "                                                                 lstm[4][1]                       \n",
      "                                                                 lstm[4][2]                       \n",
      "                                                                 dot_1[6][0]                      \n",
      "                                                                 lstm[5][1]                       \n",
      "                                                                 lstm[5][2]                       \n",
      "                                                                 dot_1[7][0]                      \n",
      "                                                                 lstm[6][1]                       \n",
      "                                                                 lstm[6][2]                       \n",
      "                                                                 dot_1[8][0]                      \n",
      "                                                                 lstm[7][1]                       \n",
      "                                                                 lstm[7][2]                       \n",
      "                                                                 dot_1[9][0]                      \n",
      "                                                                 lstm[8][1]                       \n",
      "                                                                 lstm[8][2]                       \n",
      "__________________________________________________________________________________________________\n",
      "tf_op_layer_ExpandDims_1 (Tenso [(None, 1, 128)]     0           lstm[0][1]                       \n",
      "__________________________________________________________________________________________________\n",
      "tf_op_layer_AddV2_1 (TensorFlow [(None, 30, 32)]     0           atten_W_a[1][0]                  \n",
      "                                                                 atten_W_t[1][0]                  \n",
      "__________________________________________________________________________________________________\n",
      "tf_op_layer_ExpandDims_2 (Tenso [(None, 1, 128)]     0           lstm[1][1]                       \n",
      "__________________________________________________________________________________________________\n",
      "tf_op_layer_AddV2_2 (TensorFlow [(None, 30, 32)]     0           atten_W_a[2][0]                  \n",
      "                                                                 atten_W_t[2][0]                  \n",
      "__________________________________________________________________________________________________\n",
      "tf_op_layer_ExpandDims_3 (Tenso [(None, 1, 128)]     0           lstm[2][1]                       \n",
      "__________________________________________________________________________________________________\n",
      "tf_op_layer_AddV2_3 (TensorFlow [(None, 30, 32)]     0           atten_W_a[3][0]                  \n",
      "                                                                 atten_W_t[3][0]                  \n",
      "__________________________________________________________________________________________________\n",
      "tf_op_layer_ExpandDims_4 (Tenso [(None, 1, 128)]     0           lstm[3][1]                       \n",
      "__________________________________________________________________________________________________\n",
      "tf_op_layer_AddV2_4 (TensorFlow [(None, 30, 32)]     0           atten_W_a[4][0]                  \n",
      "                                                                 atten_W_t[4][0]                  \n",
      "__________________________________________________________________________________________________\n",
      "tf_op_layer_ExpandDims_5 (Tenso [(None, 1, 128)]     0           lstm[4][1]                       \n",
      "__________________________________________________________________________________________________\n",
      "tf_op_layer_AddV2_5 (TensorFlow [(None, 30, 32)]     0           atten_W_a[5][0]                  \n",
      "                                                                 atten_W_t[5][0]                  \n",
      "__________________________________________________________________________________________________\n",
      "tf_op_layer_ExpandDims_6 (Tenso [(None, 1, 128)]     0           lstm[5][1]                       \n",
      "__________________________________________________________________________________________________\n",
      "tf_op_layer_AddV2_6 (TensorFlow [(None, 30, 32)]     0           atten_W_a[6][0]                  \n",
      "                                                                 atten_W_t[6][0]                  \n",
      "__________________________________________________________________________________________________\n",
      "tf_op_layer_ExpandDims_7 (Tenso [(None, 1, 128)]     0           lstm[6][1]                       \n",
      "__________________________________________________________________________________________________\n",
      "tf_op_layer_AddV2_7 (TensorFlow [(None, 30, 32)]     0           atten_W_a[7][0]                  \n",
      "                                                                 atten_W_t[7][0]                  \n",
      "__________________________________________________________________________________________________\n",
      "tf_op_layer_ExpandDims_8 (Tenso [(None, 1, 128)]     0           lstm[7][1]                       \n",
      "__________________________________________________________________________________________________\n",
      "tf_op_layer_AddV2_8 (TensorFlow [(None, 30, 32)]     0           atten_W_a[8][0]                  \n",
      "                                                                 atten_W_t[8][0]                  \n",
      "__________________________________________________________________________________________________\n",
      "tf_op_layer_ExpandDims_9 (Tenso [(None, 1, 128)]     0           lstm[8][1]                       \n",
      "__________________________________________________________________________________________________\n",
      "tf_op_layer_AddV2_9 (TensorFlow [(None, 30, 32)]     0           atten_W_a[9][0]                  \n",
      "                                                                 atten_W_t[9][0]                  \n",
      "__________________________________________________________________________________________________\n",
      "reshape (Reshape)               (None, 128)          0           lstm[0][0]                       \n",
      "                                                                 lstm[1][0]                       \n",
      "                                                                 lstm[2][0]                       \n",
      "                                                                 lstm[3][0]                       \n",
      "                                                                 lstm[4][0]                       \n",
      "                                                                 lstm[5][0]                       \n",
      "                                                                 lstm[6][0]                       \n",
      "                                                                 lstm[7][0]                       \n",
      "                                                                 lstm[8][0]                       \n",
      "                                                                 lstm[9][0]                       \n",
      "__________________________________________________________________________________________________\n",
      "output_layer (Dense)            (None, 11)           1419        reshape[0][0]                    \n",
      "                                                                 reshape[1][0]                    \n",
      "                                                                 reshape[2][0]                    \n",
      "                                                                 reshape[3][0]                    \n",
      "                                                                 reshape[4][0]                    \n",
      "                                                                 reshape[5][0]                    \n",
      "                                                                 reshape[6][0]                    \n",
      "                                                                 reshape[7][0]                    \n",
      "                                                                 reshape[8][0]                    \n",
      "                                                                 reshape[9][0]                    \n",
      "==================================================================================================\n",
      "Total params: 183,356\n",
      "Trainable params: 183,356\n",
      "Non-trainable params: 0\n",
      "__________________________________________________________________________________________________\n"
     ]
    }
   ],
   "source": [
    "model.summary()"
   ]
  },
  {
   "cell_type": "markdown",
   "metadata": {},
   "source": [
    "#### Compile the model\n",
    "* After creating your model in Keras, you need to compile it and define the loss function, optimizer and metrics you want to use. \n",
    "    * Loss function: 'categorical_crossentropy'.\n",
    "    * Optimizer: [Adam](https://keras.io/optimizers/#adam) [optimizer](https://keras.io/optimizers/#usage-of-optimizers)\n",
    "        - learning rate = 0.005 \n",
    "        - $\\beta_1 = 0.9$\n",
    "        - $\\beta_2 = 0.999$\n",
    "        - decay = 0.01  \n",
    "    * metric: 'accuracy'\n",
    "    \n",
    "Sample code\n",
    "```Python\n",
    "optimizer = Adam(lr=..., beta_1=..., beta_2=..., decay=...)\n",
    "model.compile(optimizer=..., loss=..., metrics=[...])\n",
    "```"
   ]
  },
  {
   "cell_type": "code",
   "execution_count": 13,
   "metadata": {},
   "outputs": [],
   "source": [
    "opt = Adam(lr=0.005, beta_1=0.9, beta_2=0.999) \n",
    "model.compile(loss='categorical_crossentropy', optimizer=opt, metrics=['accuracy'])\n",
    "epochs = 30"
   ]
  },
  {
   "cell_type": "markdown",
   "metadata": {},
   "source": [
    "#### Define inputs and outputs, and fit the model\n",
    "The last step is to define all your inputs and outputs to fit the model:\n",
    "- You have input X of shape $(m = 10000, T_x = 30)$ containing the training examples.\n",
    "- Given the `model()` you coded, you need the \"outputs\" to be a list of 10 elements of shape (m, T_y). \n",
    "    - The list `outputs[i][0], ..., outputs[i][Ty]` represents the true labels (characters) corresponding to the $i^{th}$ training example (`X[i]`). \n",
    "    - `outputs[i][j]` is the true label of the $j^{th}$ character in the $i^{th}$ training example."
   ]
  },
  {
   "cell_type": "code",
   "execution_count": 14,
   "metadata": {},
   "outputs": [
    {
     "name": "stdout",
     "output_type": "stream",
     "text": [
      "10\n",
      "(10000, 11)\n"
     ]
    }
   ],
   "source": [
    "outputs = list(Yoh.swapaxes(0,1))\n",
    "print(len(outputs))\n",
    "print(outputs[0].shape)"
   ]
  },
  {
   "cell_type": "markdown",
   "metadata": {},
   "source": [
    "Let's now fit the model and run it for one epoch."
   ]
  },
  {
   "cell_type": "code",
   "execution_count": 15,
   "metadata": {},
   "outputs": [
    {
     "name": "stdout",
     "output_type": "stream",
     "text": [
      "Epoch 1/30\n",
      "80/80 [==============================] - 8s 97ms/step - loss: 15.7686 - output_layer_loss: 0.9944 - output_layer_1_loss: 1.0242 - output_layer_2_loss: 1.8812 - output_layer_3_loss: 2.5527 - output_layer_4_loss: 0.5517 - output_layer_5_loss: 1.1032 - output_layer_6_loss: 2.5378 - output_layer_7_loss: 0.7637 - output_layer_8_loss: 1.6616 - output_layer_9_loss: 2.5477 - output_layer_accuracy: 0.5785 - output_layer_1_accuracy: 0.5211 - output_layer_2_accuracy: 0.1991 - output_layer_3_accuracy: 0.0828 - output_layer_4_accuracy: 0.8879 - output_layer_5_accuracy: 0.4723 - output_layer_6_accuracy: 0.0784 - output_layer_7_accuracy: 0.9374 - output_layer_8_accuracy: 0.2183 - output_layer_9_accuracy: 0.0855 - val_loss: 11.4276 - val_output_layer_loss: 0.6904 - val_output_layer_1_loss: 0.7341 - val_output_layer_2_loss: 1.7033 - val_output_layer_3_loss: 2.3319 - val_output_layer_4_loss: 0.0039 - val_output_layer_5_loss: 0.2930 - val_output_layer_6_loss: 2.0666 - val_output_layer_7_loss: 0.0019 - val_output_layer_8_loss: 1.2670 - val_output_layer_9_loss: 2.3108 - val_output_layer_accuracy: 0.5890 - val_output_layer_1_accuracy: 0.5890 - val_output_layer_2_accuracy: 0.2045 - val_output_layer_3_accuracy: 0.0965 - val_output_layer_4_accuracy: 1.0000 - val_output_layer_5_accuracy: 0.8980 - val_output_layer_6_accuracy: 0.2200 - val_output_layer_7_accuracy: 1.0000 - val_output_layer_8_accuracy: 0.3245 - val_output_layer_9_accuracy: 0.1040\n",
      "Epoch 2/30\n",
      "80/80 [==============================] - 4s 55ms/step - loss: 11.0286 - output_layer_loss: 0.6853 - output_layer_1_loss: 0.6904 - output_layer_2_loss: 1.7002 - output_layer_3_loss: 2.3311 - output_layer_4_loss: 0.0045 - output_layer_5_loss: 0.1743 - output_layer_6_loss: 1.8527 - output_layer_7_loss: 0.0032 - output_layer_8_loss: 1.2508 - output_layer_9_loss: 2.3175 - output_layer_accuracy: 0.5830 - output_layer_1_accuracy: 0.5744 - output_layer_2_accuracy: 0.1940 - output_layer_3_accuracy: 0.1009 - output_layer_4_accuracy: 1.0000 - output_layer_5_accuracy: 0.9406 - output_layer_6_accuracy: 0.2734 - output_layer_7_accuracy: 0.9999 - output_layer_8_accuracy: 0.3487 - output_layer_9_accuracy: 0.1146 - val_loss: 10.6820 - val_output_layer_loss: 0.6765 - val_output_layer_1_loss: 0.6812 - val_output_layer_2_loss: 1.6805 - val_output_layer_3_loss: 2.3108 - val_output_layer_4_loss: 0.0025 - val_output_layer_5_loss: 0.1284 - val_output_layer_6_loss: 1.6240 - val_output_layer_7_loss: 0.0016 - val_output_layer_8_loss: 1.2532 - val_output_layer_9_loss: 2.3171 - val_output_layer_accuracy: 0.5890 - val_output_layer_1_accuracy: 0.5890 - val_output_layer_2_accuracy: 0.2340 - val_output_layer_3_accuracy: 0.1185 - val_output_layer_4_accuracy: 1.0000 - val_output_layer_5_accuracy: 0.9515 - val_output_layer_6_accuracy: 0.4035 - val_output_layer_7_accuracy: 1.0000 - val_output_layer_8_accuracy: 0.3470 - val_output_layer_9_accuracy: 0.1255\n",
      "Epoch 3/30\n",
      "80/80 [==============================] - 4s 56ms/step - loss: 10.2571 - output_layer_loss: 0.5699 - output_layer_1_loss: 0.5749 - output_layer_2_loss: 1.5873 - output_layer_3_loss: 2.3253 - output_layer_4_loss: 0.0016 - output_layer_5_loss: 0.1371 - output_layer_6_loss: 1.4952 - output_layer_7_loss: 0.0013 - output_layer_8_loss: 1.2496 - output_layer_9_loss: 2.3105 - output_layer_accuracy: 0.6815 - output_layer_1_accuracy: 0.6786 - output_layer_2_accuracy: 0.2720 - output_layer_3_accuracy: 0.1155 - output_layer_4_accuracy: 1.0000 - output_layer_5_accuracy: 0.9499 - output_layer_6_accuracy: 0.4187 - output_layer_7_accuracy: 1.0000 - output_layer_8_accuracy: 0.3395 - output_layer_9_accuracy: 0.1121 - val_loss: 8.9927 - val_output_layer_loss: 0.1528 - val_output_layer_1_loss: 0.1510 - val_output_layer_2_loss: 1.1767 - val_output_layer_3_loss: 2.2941 - val_output_layer_4_loss: 7.3075e-04 - val_output_layer_5_loss: 0.1545 - val_output_layer_6_loss: 1.5264 - val_output_layer_7_loss: 4.0069e-04 - val_output_layer_8_loss: 1.2482 - val_output_layer_9_loss: 2.2847 - val_output_layer_accuracy: 0.9515 - val_output_layer_1_accuracy: 0.9510 - val_output_layer_2_accuracy: 0.4175 - val_output_layer_3_accuracy: 0.1470 - val_output_layer_4_accuracy: 1.0000 - val_output_layer_5_accuracy: 0.9265 - val_output_layer_6_accuracy: 0.3870 - val_output_layer_7_accuracy: 1.0000 - val_output_layer_8_accuracy: 0.3695 - val_output_layer_9_accuracy: 0.1145\n",
      "Epoch 4/30\n",
      "80/80 [==============================] - 4s 56ms/step - loss: 8.5911 - output_layer_loss: 0.1258 - output_layer_1_loss: 0.1283 - output_layer_2_loss: 1.1060 - output_layer_3_loss: 2.2656 - output_layer_4_loss: 0.0013 - output_layer_5_loss: 0.1407 - output_layer_6_loss: 1.2824 - output_layer_7_loss: 9.0594e-04 - output_layer_8_loss: 1.2445 - output_layer_9_loss: 2.2947 - output_layer_accuracy: 0.9541 - output_layer_1_accuracy: 0.9523 - output_layer_2_accuracy: 0.4346 - output_layer_3_accuracy: 0.1437 - output_layer_4_accuracy: 1.0000 - output_layer_5_accuracy: 0.9495 - output_layer_6_accuracy: 0.5034 - output_layer_7_accuracy: 1.0000 - output_layer_8_accuracy: 0.3520 - output_layer_9_accuracy: 0.1219 - val_loss: 8.2974 - val_output_layer_loss: 0.1017 - val_output_layer_1_loss: 0.0974 - val_output_layer_2_loss: 1.0519 - val_output_layer_3_loss: 2.1776 - val_output_layer_4_loss: 4.9168e-04 - val_output_layer_5_loss: 0.1228 - val_output_layer_6_loss: 1.2013 - val_output_layer_7_loss: 4.7038e-04 - val_output_layer_8_loss: 1.2555 - val_output_layer_9_loss: 2.2882 - val_output_layer_accuracy: 0.9500 - val_output_layer_1_accuracy: 0.9510 - val_output_layer_2_accuracy: 0.4680 - val_output_layer_3_accuracy: 0.1835 - val_output_layer_4_accuracy: 1.0000 - val_output_layer_5_accuracy: 0.9625 - val_output_layer_6_accuracy: 0.5445 - val_output_layer_7_accuracy: 1.0000 - val_output_layer_8_accuracy: 0.3555 - val_output_layer_9_accuracy: 0.1285\n",
      "Epoch 5/30\n",
      "80/80 [==============================] - 4s 55ms/step - loss: 7.9178 - output_layer_loss: 0.0783 - output_layer_1_loss: 0.0772 - output_layer_2_loss: 1.0392 - output_layer_3_loss: 2.0324 - output_layer_4_loss: 0.0013 - output_layer_5_loss: 0.1116 - output_layer_6_loss: 1.0410 - output_layer_7_loss: 9.1707e-04 - output_layer_8_loss: 1.2422 - output_layer_9_loss: 2.2901 - output_layer_accuracy: 0.9674 - output_layer_1_accuracy: 0.9675 - output_layer_2_accuracy: 0.4575 - output_layer_3_accuracy: 0.2208 - output_layer_4_accuracy: 0.9999 - output_layer_5_accuracy: 0.9635 - output_layer_6_accuracy: 0.5981 - output_layer_7_accuracy: 1.0000 - output_layer_8_accuracy: 0.3469 - output_layer_9_accuracy: 0.1275 - val_loss: 7.5962 - val_output_layer_loss: 0.0700 - val_output_layer_1_loss: 0.0701 - val_output_layer_2_loss: 1.0232 - val_output_layer_3_loss: 1.8435 - val_output_layer_4_loss: 9.1657e-04 - val_output_layer_5_loss: 0.1001 - val_output_layer_6_loss: 0.9557 - val_output_layer_7_loss: 0.0011 - val_output_layer_8_loss: 1.2436 - val_output_layer_9_loss: 2.2867 - val_output_layer_accuracy: 0.9700 - val_output_layer_1_accuracy: 0.9705 - val_output_layer_2_accuracy: 0.4400 - val_output_layer_3_accuracy: 0.2785 - val_output_layer_4_accuracy: 1.0000 - val_output_layer_5_accuracy: 0.9640 - val_output_layer_6_accuracy: 0.6385 - val_output_layer_7_accuracy: 1.0000 - val_output_layer_8_accuracy: 0.3575 - val_output_layer_9_accuracy: 0.1230\n",
      "Epoch 6/30\n",
      "80/80 [==============================] - 4s 56ms/step - loss: 7.2177 - output_layer_loss: 0.0527 - output_layer_1_loss: 0.0515 - output_layer_2_loss: 1.0024 - output_layer_3_loss: 1.6566 - output_layer_4_loss: 0.0012 - output_layer_5_loss: 0.0855 - output_layer_6_loss: 0.8598 - output_layer_7_loss: 0.0012 - output_layer_8_loss: 1.2376 - output_layer_9_loss: 2.2588 - output_layer_accuracy: 0.9790 - output_layer_1_accuracy: 0.9793 - output_layer_2_accuracy: 0.4540 - output_layer_3_accuracy: 0.3125 - output_layer_4_accuracy: 1.0000 - output_layer_5_accuracy: 0.9690 - output_layer_6_accuracy: 0.6730 - output_layer_7_accuracy: 0.9999 - output_layer_8_accuracy: 0.3593 - output_layer_9_accuracy: 0.1402 - val_loss: 7.0857 - val_output_layer_loss: 0.0432 - val_output_layer_1_loss: 0.0422 - val_output_layer_2_loss: 1.0110 - val_output_layer_3_loss: 1.7461 - val_output_layer_4_loss: 0.0019 - val_output_layer_5_loss: 0.0696 - val_output_layer_6_loss: 0.7860 - val_output_layer_7_loss: 7.0811e-04 - val_output_layer_8_loss: 1.2221 - val_output_layer_9_loss: 2.1364 - val_output_layer_accuracy: 0.9785 - val_output_layer_1_accuracy: 0.9805 - val_output_layer_2_accuracy: 0.4365 - val_output_layer_3_accuracy: 0.2580 - val_output_layer_4_accuracy: 1.0000 - val_output_layer_5_accuracy: 0.9765 - val_output_layer_6_accuracy: 0.7640 - val_output_layer_7_accuracy: 1.0000 - val_output_layer_8_accuracy: 0.4015 - val_output_layer_9_accuracy: 0.1800\n"
     ]
    },
    {
     "name": "stdout",
     "output_type": "stream",
     "text": [
      "Epoch 7/30\n",
      "80/80 [==============================] - 4s 54ms/step - loss: 6.0993 - output_layer_loss: 0.0277 - output_layer_1_loss: 0.0243 - output_layer_2_loss: 0.9281 - output_layer_3_loss: 1.3489 - output_layer_4_loss: 8.6615e-04 - output_layer_5_loss: 0.0779 - output_layer_6_loss: 0.6838 - output_layer_7_loss: 0.0012 - output_layer_8_loss: 1.1544 - output_layer_9_loss: 1.8312 - output_layer_accuracy: 0.9904 - output_layer_1_accuracy: 0.9894 - output_layer_2_accuracy: 0.4970 - output_layer_3_accuracy: 0.4065 - output_layer_4_accuracy: 1.0000 - output_layer_5_accuracy: 0.9695 - output_layer_6_accuracy: 0.7586 - output_layer_7_accuracy: 1.0000 - output_layer_8_accuracy: 0.4439 - output_layer_9_accuracy: 0.2607 - val_loss: 5.2968 - val_output_layer_loss: 0.0097 - val_output_layer_1_loss: 0.0080 - val_output_layer_2_loss: 0.8339 - val_output_layer_3_loss: 1.1289 - val_output_layer_4_loss: 0.0031 - val_output_layer_5_loss: 0.0637 - val_output_layer_6_loss: 0.5598 - val_output_layer_7_loss: 7.0844e-04 - val_output_layer_8_loss: 1.1201 - val_output_layer_9_loss: 1.5440 - val_output_layer_accuracy: 0.9990 - val_output_layer_1_accuracy: 0.9990 - val_output_layer_2_accuracy: 0.5505 - val_output_layer_3_accuracy: 0.4830 - val_output_layer_4_accuracy: 1.0000 - val_output_layer_5_accuracy: 0.9780 - val_output_layer_6_accuracy: 0.8025 - val_output_layer_7_accuracy: 1.0000 - val_output_layer_8_accuracy: 0.4750 - val_output_layer_9_accuracy: 0.3295\n",
      "Epoch 8/30\n",
      "80/80 [==============================] - 4s 54ms/step - loss: 4.6154 - output_layer_loss: 0.0057 - output_layer_1_loss: 0.0024 - output_layer_2_loss: 0.7931 - output_layer_3_loss: 1.0107 - output_layer_4_loss: 8.0719e-04 - output_layer_5_loss: 0.0643 - output_layer_6_loss: 0.4933 - output_layer_7_loss: 0.0017 - output_layer_8_loss: 0.9412 - output_layer_9_loss: 1.2719 - output_layer_accuracy: 0.9998 - output_layer_1_accuracy: 1.0000 - output_layer_2_accuracy: 0.5658 - output_layer_3_accuracy: 0.5571 - output_layer_4_accuracy: 1.0000 - output_layer_5_accuracy: 0.9739 - output_layer_6_accuracy: 0.8361 - output_layer_7_accuracy: 1.0000 - output_layer_8_accuracy: 0.5899 - output_layer_9_accuracy: 0.4439 - val_loss: 4.0022 - val_output_layer_loss: 0.0060 - val_output_layer_1_loss: 0.0050 - val_output_layer_2_loss: 0.7725 - val_output_layer_3_loss: 0.9035 - val_output_layer_4_loss: 3.9936e-04 - val_output_layer_5_loss: 0.0508 - val_output_layer_6_loss: 0.5101 - val_output_layer_7_loss: 7.5798e-04 - val_output_layer_8_loss: 0.6948 - val_output_layer_9_loss: 1.0273 - val_output_layer_accuracy: 0.9995 - val_output_layer_1_accuracy: 0.9995 - val_output_layer_2_accuracy: 0.5755 - val_output_layer_3_accuracy: 0.6150 - val_output_layer_4_accuracy: 1.0000 - val_output_layer_5_accuracy: 0.9790 - val_output_layer_6_accuracy: 0.8005 - val_output_layer_7_accuracy: 1.0000 - val_output_layer_8_accuracy: 0.7230 - val_output_layer_9_accuracy: 0.5155\n",
      "Epoch 9/30\n",
      "80/80 [==============================] - 4s 55ms/step - loss: 3.2725 - output_layer_loss: 0.0065 - output_layer_1_loss: 0.0053 - output_layer_2_loss: 0.7364 - output_layer_3_loss: 0.7289 - output_layer_4_loss: 6.2542e-04 - output_layer_5_loss: 0.0462 - output_layer_6_loss: 0.3943 - output_layer_7_loss: 0.0015 - output_layer_8_loss: 0.4851 - output_layer_9_loss: 0.8355 - output_layer_accuracy: 0.9990 - output_layer_1_accuracy: 0.9987 - output_layer_2_accuracy: 0.6083 - output_layer_3_accuracy: 0.7063 - output_layer_4_accuracy: 1.0000 - output_layer_5_accuracy: 0.9808 - output_layer_6_accuracy: 0.8649 - output_layer_7_accuracy: 1.0000 - output_layer_8_accuracy: 0.8091 - output_layer_9_accuracy: 0.6516 - val_loss: 2.8441 - val_output_layer_loss: 0.0105 - val_output_layer_1_loss: 0.0106 - val_output_layer_2_loss: 0.7074 - val_output_layer_3_loss: 0.6338 - val_output_layer_4_loss: 4.8197e-04 - val_output_layer_5_loss: 0.0291 - val_output_layer_6_loss: 0.4795 - val_output_layer_7_loss: 5.8900e-04 - val_output_layer_8_loss: 0.2988 - val_output_layer_9_loss: 0.6404 - val_output_layer_accuracy: 0.9970 - val_output_layer_1_accuracy: 0.9960 - val_output_layer_2_accuracy: 0.6505 - val_output_layer_3_accuracy: 0.7400 - val_output_layer_4_accuracy: 1.0000 - val_output_layer_5_accuracy: 0.9910 - val_output_layer_6_accuracy: 0.8075 - val_output_layer_7_accuracy: 1.0000 - val_output_layer_8_accuracy: 0.8810 - val_output_layer_9_accuracy: 0.7575\n",
      "Epoch 10/30\n",
      "80/80 [==============================] - 4s 55ms/step - loss: 2.0870 - output_layer_loss: 0.0029 - output_layer_1_loss: 0.0019 - output_layer_2_loss: 0.5414 - output_layer_3_loss: 0.4810 - output_layer_4_loss: 4.3767e-04 - output_layer_5_loss: 0.0372 - output_layer_6_loss: 0.3145 - output_layer_7_loss: 0.0014 - output_layer_8_loss: 0.2007 - output_layer_9_loss: 0.4740 - output_layer_accuracy: 1.0000 - output_layer_1_accuracy: 1.0000 - output_layer_2_accuracy: 0.7452 - output_layer_3_accuracy: 0.8384 - output_layer_4_accuracy: 1.0000 - output_layer_5_accuracy: 0.9868 - output_layer_6_accuracy: 0.8947 - output_layer_7_accuracy: 1.0000 - output_layer_8_accuracy: 0.9373 - output_layer_9_accuracy: 0.8501 - val_loss: 1.4699 - val_output_layer_loss: 0.0019 - val_output_layer_1_loss: 0.0025 - val_output_layer_2_loss: 0.4052 - val_output_layer_3_loss: 0.3319 - val_output_layer_4_loss: 0.0012 - val_output_layer_5_loss: 0.0225 - val_output_layer_6_loss: 0.2652 - val_output_layer_7_loss: 0.0013 - val_output_layer_8_loss: 0.1198 - val_output_layer_9_loss: 0.2895 - val_output_layer_accuracy: 1.0000 - val_output_layer_1_accuracy: 1.0000 - val_output_layer_2_accuracy: 0.8365 - val_output_layer_3_accuracy: 0.9250 - val_output_layer_4_accuracy: 0.9990 - val_output_layer_5_accuracy: 0.9930 - val_output_layer_6_accuracy: 0.9165 - val_output_layer_7_accuracy: 1.0000 - val_output_layer_8_accuracy: 0.9725 - val_output_layer_9_accuracy: 0.9350\n",
      "Epoch 11/30\n",
      "80/80 [==============================] - 4s 56ms/step - loss: 1.0514 - output_layer_loss: 0.0018 - output_layer_1_loss: 0.0026 - output_layer_2_loss: 0.2315 - output_layer_3_loss: 0.2534 - output_layer_4_loss: 3.0959e-04 - output_layer_5_loss: 0.0235 - output_layer_6_loss: 0.1943 - output_layer_7_loss: 9.6296e-04 - output_layer_8_loss: 0.0999 - output_layer_9_loss: 0.2171 - output_layer_accuracy: 1.0000 - output_layer_1_accuracy: 1.0000 - output_layer_2_accuracy: 0.9342 - output_layer_3_accuracy: 0.9551 - output_layer_4_accuracy: 1.0000 - output_layer_5_accuracy: 0.9916 - output_layer_6_accuracy: 0.9385 - output_layer_7_accuracy: 1.0000 - output_layer_8_accuracy: 0.9716 - output_layer_9_accuracy: 0.9440 - val_loss: 0.8111 - val_output_layer_loss: 0.0014 - val_output_layer_1_loss: 0.0026 - val_output_layer_2_loss: 0.1323 - val_output_layer_3_loss: 0.1902 - val_output_layer_4_loss: 1.5711e-04 - val_output_layer_5_loss: 0.0175 - val_output_layer_6_loss: 0.2019 - val_output_layer_7_loss: 6.4064e-04 - val_output_layer_8_loss: 0.0819 - val_output_layer_9_loss: 0.1594 - val_output_layer_accuracy: 1.0000 - val_output_layer_1_accuracy: 1.0000 - val_output_layer_2_accuracy: 0.9550 - val_output_layer_3_accuracy: 0.9730 - val_output_layer_4_accuracy: 1.0000 - val_output_layer_5_accuracy: 0.9930 - val_output_layer_6_accuracy: 0.9315 - val_output_layer_7_accuracy: 1.0000 - val_output_layer_8_accuracy: 0.9810 - val_output_layer_9_accuracy: 0.9580\n",
      "Epoch 12/30\n",
      "80/80 [==============================] - 4s 56ms/step - loss: 0.5133 - output_layer_loss: 9.2323e-04 - output_layer_1_loss: 0.0019 - output_layer_2_loss: 0.0778 - output_layer_3_loss: 0.1135 - output_layer_4_loss: 2.9703e-04 - output_layer_5_loss: 0.0166 - output_layer_6_loss: 0.1420 - output_layer_7_loss: 6.5672e-04 - output_layer_8_loss: 0.0510 - output_layer_9_loss: 0.0893 - output_layer_accuracy: 1.0000 - output_layer_1_accuracy: 1.0000 - output_layer_2_accuracy: 0.9797 - output_layer_3_accuracy: 0.9930 - output_layer_4_accuracy: 1.0000 - output_layer_5_accuracy: 0.9941 - output_layer_6_accuracy: 0.9528 - output_layer_7_accuracy: 1.0000 - output_layer_8_accuracy: 0.9858 - output_layer_9_accuracy: 0.9749 - val_loss: 0.5293 - val_output_layer_loss: 5.9335e-04 - val_output_layer_1_loss: 0.0013 - val_output_layer_2_loss: 0.0568 - val_output_layer_3_loss: 0.1440 - val_output_layer_4_loss: 2.1932e-04 - val_output_layer_5_loss: 0.0119 - val_output_layer_6_loss: 0.1707 - val_output_layer_7_loss: 4.2678e-04 - val_output_layer_8_loss: 0.0457 - val_output_layer_9_loss: 0.0810 - val_output_layer_accuracy: 1.0000 - val_output_layer_1_accuracy: 1.0000 - val_output_layer_2_accuracy: 0.9930 - val_output_layer_3_accuracy: 0.9710 - val_output_layer_4_accuracy: 1.0000 - val_output_layer_5_accuracy: 0.9960 - val_output_layer_6_accuracy: 0.9440 - val_output_layer_7_accuracy: 1.0000 - val_output_layer_8_accuracy: 0.9900 - val_output_layer_9_accuracy: 0.9760\n"
     ]
    },
    {
     "name": "stdout",
     "output_type": "stream",
     "text": [
      "Epoch 13/30\n",
      "80/80 [==============================] - 4s 55ms/step - loss: 0.3940 - output_layer_loss: 7.4469e-04 - output_layer_1_loss: 0.0015 - output_layer_2_loss: 0.0426 - output_layer_3_loss: 0.1170 - output_layer_4_loss: 2.7606e-04 - output_layer_5_loss: 0.0137 - output_layer_6_loss: 0.1146 - output_layer_7_loss: 5.3910e-04 - output_layer_8_loss: 0.0355 - output_layer_9_loss: 0.0515 - output_layer_accuracy: 1.0000 - output_layer_1_accuracy: 0.9999 - output_layer_2_accuracy: 0.9920 - output_layer_3_accuracy: 0.9754 - output_layer_4_accuracy: 1.0000 - output_layer_5_accuracy: 0.9950 - output_layer_6_accuracy: 0.9581 - output_layer_7_accuracy: 1.0000 - output_layer_8_accuracy: 0.9893 - output_layer_9_accuracy: 0.9851 - val_loss: 0.3632 - val_output_layer_loss: 7.1950e-04 - val_output_layer_1_loss: 0.0015 - val_output_layer_2_loss: 0.0314 - val_output_layer_3_loss: 0.0723 - val_output_layer_4_loss: 5.4479e-05 - val_output_layer_5_loss: 0.0110 - val_output_layer_6_loss: 0.1272 - val_output_layer_7_loss: 2.9202e-04 - val_output_layer_8_loss: 0.0307 - val_output_layer_9_loss: 0.0728 - val_output_layer_accuracy: 1.0000 - val_output_layer_1_accuracy: 1.0000 - val_output_layer_2_accuracy: 0.9940 - val_output_layer_3_accuracy: 0.9925 - val_output_layer_4_accuracy: 1.0000 - val_output_layer_5_accuracy: 0.9960 - val_output_layer_6_accuracy: 0.9520 - val_output_layer_7_accuracy: 1.0000 - val_output_layer_8_accuracy: 0.9920 - val_output_layer_9_accuracy: 0.9775\n",
      "Epoch 14/30\n",
      "80/80 [==============================] - 4s 55ms/step - loss: 0.2385 - output_layer_loss: 5.1067e-04 - output_layer_1_loss: 8.3057e-04 - output_layer_2_loss: 0.0188 - output_layer_3_loss: 0.0505 - output_layer_4_loss: 7.7322e-05 - output_layer_5_loss: 0.0083 - output_layer_6_loss: 0.0834 - output_layer_7_loss: 4.1344e-04 - output_layer_8_loss: 0.0250 - output_layer_9_loss: 0.0365 - output_layer_accuracy: 1.0000 - output_layer_1_accuracy: 1.0000 - output_layer_2_accuracy: 0.9981 - output_layer_3_accuracy: 0.9955 - output_layer_4_accuracy: 1.0000 - output_layer_5_accuracy: 0.9971 - output_layer_6_accuracy: 0.9725 - output_layer_7_accuracy: 1.0000 - output_layer_8_accuracy: 0.9930 - output_layer_9_accuracy: 0.9904 - val_loss: 0.2517 - val_output_layer_loss: 4.5347e-04 - val_output_layer_1_loss: 7.9143e-04 - val_output_layer_2_loss: 0.0129 - val_output_layer_3_loss: 0.0406 - val_output_layer_4_loss: 6.8285e-05 - val_output_layer_5_loss: 0.0073 - val_output_layer_6_loss: 0.1006 - val_output_layer_7_loss: 2.4163e-04 - val_output_layer_8_loss: 0.0275 - val_output_layer_9_loss: 0.0471 - val_output_layer_accuracy: 1.0000 - val_output_layer_1_accuracy: 1.0000 - val_output_layer_2_accuracy: 0.9985 - val_output_layer_3_accuracy: 0.9980 - val_output_layer_4_accuracy: 1.0000 - val_output_layer_5_accuracy: 0.9975 - val_output_layer_6_accuracy: 0.9640 - val_output_layer_7_accuracy: 1.0000 - val_output_layer_8_accuracy: 0.9930 - val_output_layer_9_accuracy: 0.9850\n",
      "Epoch 15/30\n",
      "80/80 [==============================] - 4s 55ms/step - loss: 0.1813 - output_layer_loss: 3.9101e-04 - output_layer_1_loss: 5.2412e-04 - output_layer_2_loss: 0.0120 - output_layer_3_loss: 0.0361 - output_layer_4_loss: 6.0053e-05 - output_layer_5_loss: 0.0062 - output_layer_6_loss: 0.0659 - output_layer_7_loss: 3.2486e-04 - output_layer_8_loss: 0.0197 - output_layer_9_loss: 0.0268 - output_layer_accuracy: 1.0000 - output_layer_1_accuracy: 1.0000 - output_layer_2_accuracy: 0.9987 - output_layer_3_accuracy: 0.9971 - output_layer_4_accuracy: 1.0000 - output_layer_5_accuracy: 0.9984 - output_layer_6_accuracy: 0.9779 - output_layer_7_accuracy: 1.0000 - output_layer_8_accuracy: 0.9946 - output_layer_9_accuracy: 0.9924 - val_loss: 0.2276 - val_output_layer_loss: 3.7976e-04 - val_output_layer_1_loss: 4.2285e-04 - val_output_layer_2_loss: 0.0133 - val_output_layer_3_loss: 0.0361 - val_output_layer_4_loss: 6.9347e-05 - val_output_layer_5_loss: 0.0117 - val_output_layer_6_loss: 0.0876 - val_output_layer_7_loss: 4.7331e-04 - val_output_layer_8_loss: 0.0225 - val_output_layer_9_loss: 0.0398 - val_output_layer_accuracy: 1.0000 - val_output_layer_1_accuracy: 1.0000 - val_output_layer_2_accuracy: 0.9980 - val_output_layer_3_accuracy: 0.9975 - val_output_layer_4_accuracy: 1.0000 - val_output_layer_5_accuracy: 0.9965 - val_output_layer_6_accuracy: 0.9700 - val_output_layer_7_accuracy: 1.0000 - val_output_layer_8_accuracy: 0.9940 - val_output_layer_9_accuracy: 0.9870\n",
      "Epoch 16/30\n",
      "80/80 [==============================] - 4s 55ms/step - loss: 0.1478 - output_layer_loss: 2.9229e-04 - output_layer_1_loss: 3.5251e-04 - output_layer_2_loss: 0.0093 - output_layer_3_loss: 0.0350 - output_layer_4_loss: 6.2597e-05 - output_layer_5_loss: 0.0052 - output_layer_6_loss: 0.0515 - output_layer_7_loss: 3.3376e-04 - output_layer_8_loss: 0.0129 - output_layer_9_loss: 0.0195 - output_layer_accuracy: 1.0000 - output_layer_1_accuracy: 1.0000 - output_layer_2_accuracy: 0.9992 - output_layer_3_accuracy: 0.9965 - output_layer_4_accuracy: 1.0000 - output_layer_5_accuracy: 0.9986 - output_layer_6_accuracy: 0.9837 - output_layer_7_accuracy: 1.0000 - output_layer_8_accuracy: 0.9974 - output_layer_9_accuracy: 0.9948 - val_loss: 0.1758 - val_output_layer_loss: 2.8006e-04 - val_output_layer_1_loss: 4.3754e-04 - val_output_layer_2_loss: 0.0110 - val_output_layer_3_loss: 0.0370 - val_output_layer_4_loss: 6.1928e-05 - val_output_layer_5_loss: 0.0037 - val_output_layer_6_loss: 0.0739 - val_output_layer_7_loss: 2.3424e-04 - val_output_layer_8_loss: 0.0116 - val_output_layer_9_loss: 0.0270 - val_output_layer_accuracy: 1.0000 - val_output_layer_1_accuracy: 1.0000 - val_output_layer_2_accuracy: 0.9985 - val_output_layer_3_accuracy: 0.9960 - val_output_layer_4_accuracy: 1.0000 - val_output_layer_5_accuracy: 0.9985 - val_output_layer_6_accuracy: 0.9750 - val_output_layer_7_accuracy: 1.0000 - val_output_layer_8_accuracy: 0.9970 - val_output_layer_9_accuracy: 0.9935\n",
      "Epoch 17/30\n",
      "80/80 [==============================] - 4s 56ms/step - loss: 0.1245 - output_layer_loss: 2.6920e-04 - output_layer_1_loss: 3.3603e-04 - output_layer_2_loss: 0.0108 - output_layer_3_loss: 0.0303 - output_layer_4_loss: 6.1214e-05 - output_layer_5_loss: 0.0030 - output_layer_6_loss: 0.0379 - output_layer_7_loss: 2.9458e-04 - output_layer_8_loss: 0.0122 - output_layer_9_loss: 0.0185 - output_layer_accuracy: 1.0000 - output_layer_1_accuracy: 1.0000 - output_layer_2_accuracy: 0.9983 - output_layer_3_accuracy: 0.9962 - output_layer_4_accuracy: 1.0000 - output_layer_5_accuracy: 0.9994 - output_layer_6_accuracy: 0.9902 - output_layer_7_accuracy: 1.0000 - output_layer_8_accuracy: 0.9967 - output_layer_9_accuracy: 0.9950 - val_loss: 0.1930 - val_output_layer_loss: 2.8636e-04 - val_output_layer_1_loss: 3.3998e-04 - val_output_layer_2_loss: 0.0072 - val_output_layer_3_loss: 0.0358 - val_output_layer_4_loss: 2.8650e-05 - val_output_layer_5_loss: 0.0077 - val_output_layer_6_loss: 0.0820 - val_output_layer_7_loss: 1.9990e-04 - val_output_layer_8_loss: 0.0167 - val_output_layer_9_loss: 0.0320 - val_output_layer_accuracy: 1.0000 - val_output_layer_1_accuracy: 1.0000 - val_output_layer_2_accuracy: 0.9995 - val_output_layer_3_accuracy: 0.9970 - val_output_layer_4_accuracy: 1.0000 - val_output_layer_5_accuracy: 0.9975 - val_output_layer_6_accuracy: 0.9715 - val_output_layer_7_accuracy: 1.0000 - val_output_layer_8_accuracy: 0.9945 - val_output_layer_9_accuracy: 0.9910\n",
      "Epoch 18/30\n",
      "80/80 [==============================] - 4s 56ms/step - loss: 0.0988 - output_layer_loss: 2.1870e-04 - output_layer_1_loss: 2.7698e-04 - output_layer_2_loss: 0.0076 - output_layer_3_loss: 0.0255 - output_layer_4_loss: 3.3344e-05 - output_layer_5_loss: 0.0031 - output_layer_6_loss: 0.0332 - output_layer_7_loss: 2.3163e-04 - output_layer_8_loss: 0.0077 - output_layer_9_loss: 0.0117 - output_layer_accuracy: 1.0000 - output_layer_1_accuracy: 1.0000 - output_layer_2_accuracy: 0.9984 - output_layer_3_accuracy: 0.9976 - output_layer_4_accuracy: 1.0000 - output_layer_5_accuracy: 0.9992 - output_layer_6_accuracy: 0.9899 - output_layer_7_accuracy: 1.0000 - output_layer_8_accuracy: 0.9985 - output_layer_9_accuracy: 0.9964 - val_loss: 0.1249 - val_output_layer_loss: 3.9880e-04 - val_output_layer_1_loss: 3.3509e-04 - val_output_layer_2_loss: 0.0049 - val_output_layer_3_loss: 0.0278 - val_output_layer_4_loss: 3.1635e-05 - val_output_layer_5_loss: 0.0020 - val_output_layer_6_loss: 0.0507 - val_output_layer_7_loss: 2.4504e-04 - val_output_layer_8_loss: 0.0102 - val_output_layer_9_loss: 0.0202 - val_output_layer_accuracy: 1.0000 - val_output_layer_1_accuracy: 1.0000 - val_output_layer_2_accuracy: 0.9995 - val_output_layer_3_accuracy: 0.9980 - val_output_layer_4_accuracy: 1.0000 - val_output_layer_5_accuracy: 0.9995 - val_output_layer_6_accuracy: 0.9815 - val_output_layer_7_accuracy: 1.0000 - val_output_layer_8_accuracy: 0.9955 - val_output_layer_9_accuracy: 0.9930\n"
     ]
    },
    {
     "name": "stdout",
     "output_type": "stream",
     "text": [
      "Epoch 19/30\n",
      "80/80 [==============================] - 4s 56ms/step - loss: 0.0927 - output_layer_loss: 2.0418e-04 - output_layer_1_loss: 2.5374e-04 - output_layer_2_loss: 0.0046 - output_layer_3_loss: 0.0201 - output_layer_4_loss: 3.8906e-05 - output_layer_5_loss: 0.0043 - output_layer_6_loss: 0.0329 - output_layer_7_loss: 2.2285e-04 - output_layer_8_loss: 0.0094 - output_layer_9_loss: 0.0115 - output_layer_accuracy: 1.0000 - output_layer_1_accuracy: 1.0000 - output_layer_2_accuracy: 0.9996 - output_layer_3_accuracy: 0.9977 - output_layer_4_accuracy: 1.0000 - output_layer_5_accuracy: 0.9987 - output_layer_6_accuracy: 0.9915 - output_layer_7_accuracy: 1.0000 - output_layer_8_accuracy: 0.9970 - output_layer_9_accuracy: 0.9967 - val_loss: 0.1415 - val_output_layer_loss: 5.4265e-04 - val_output_layer_1_loss: 3.5193e-04 - val_output_layer_2_loss: 0.0058 - val_output_layer_3_loss: 0.0279 - val_output_layer_4_loss: 3.8480e-05 - val_output_layer_5_loss: 0.0026 - val_output_layer_6_loss: 0.0610 - val_output_layer_7_loss: 2.2447e-04 - val_output_layer_8_loss: 0.0116 - val_output_layer_9_loss: 0.0206 - val_output_layer_accuracy: 1.0000 - val_output_layer_1_accuracy: 1.0000 - val_output_layer_2_accuracy: 0.9995 - val_output_layer_3_accuracy: 0.9980 - val_output_layer_4_accuracy: 1.0000 - val_output_layer_5_accuracy: 0.9990 - val_output_layer_6_accuracy: 0.9785 - val_output_layer_7_accuracy: 1.0000 - val_output_layer_8_accuracy: 0.9950 - val_output_layer_9_accuracy: 0.9935\n",
      "Epoch 20/30\n",
      "80/80 [==============================] - 4s 55ms/step - loss: 0.1984 - output_layer_loss: 7.6410e-04 - output_layer_1_loss: 6.5380e-04 - output_layer_2_loss: 0.0135 - output_layer_3_loss: 0.0408 - output_layer_4_loss: 4.3795e-05 - output_layer_5_loss: 0.0073 - output_layer_6_loss: 0.0500 - output_layer_7_loss: 5.7374e-04 - output_layer_8_loss: 0.0328 - output_layer_9_loss: 0.0271 - output_layer_accuracy: 0.9999 - output_layer_1_accuracy: 0.9998 - output_layer_2_accuracy: 0.9971 - output_layer_3_accuracy: 0.9908 - output_layer_4_accuracy: 1.0000 - output_layer_5_accuracy: 0.9980 - output_layer_6_accuracy: 0.9845 - output_layer_7_accuracy: 0.9999 - output_layer_8_accuracy: 0.9884 - output_layer_9_accuracy: 0.9923 - val_loss: 0.2475 - val_output_layer_loss: 0.0120 - val_output_layer_1_loss: 0.0191 - val_output_layer_2_loss: 0.0195 - val_output_layer_3_loss: 0.0427 - val_output_layer_4_loss: 6.7981e-05 - val_output_layer_5_loss: 0.0046 - val_output_layer_6_loss: 0.0676 - val_output_layer_7_loss: 1.5059e-04 - val_output_layer_8_loss: 0.0252 - val_output_layer_9_loss: 0.0324 - val_output_layer_accuracy: 0.9970 - val_output_layer_1_accuracy: 0.9955 - val_output_layer_2_accuracy: 0.9950 - val_output_layer_3_accuracy: 0.9935 - val_output_layer_4_accuracy: 1.0000 - val_output_layer_5_accuracy: 0.9995 - val_output_layer_6_accuracy: 0.9765 - val_output_layer_7_accuracy: 1.0000 - val_output_layer_8_accuracy: 0.9925 - val_output_layer_9_accuracy: 0.9910\n",
      "Epoch 21/30\n",
      "80/80 [==============================] - 4s 56ms/step - loss: 0.1074 - output_layer_loss: 0.0012 - output_layer_1_loss: 0.0023 - output_layer_2_loss: 0.0087 - output_layer_3_loss: 0.0263 - output_layer_4_loss: 2.9779e-05 - output_layer_5_loss: 0.0036 - output_layer_6_loss: 0.0239 - output_layer_7_loss: 1.9430e-04 - output_layer_8_loss: 0.0098 - output_layer_9_loss: 0.0138 - output_layer_accuracy: 0.9996 - output_layer_1_accuracy: 0.9996 - output_layer_2_accuracy: 0.9986 - output_layer_3_accuracy: 0.9962 - output_layer_4_accuracy: 1.0000 - output_layer_5_accuracy: 0.9989 - output_layer_6_accuracy: 0.9939 - output_layer_7_accuracy: 1.0000 - output_layer_8_accuracy: 0.9975 - output_layer_9_accuracy: 0.9956 - val_loss: 0.1058 - val_output_layer_loss: 1.1548e-04 - val_output_layer_1_loss: 1.7903e-04 - val_output_layer_2_loss: 0.0078 - val_output_layer_3_loss: 0.0258 - val_output_layer_4_loss: 2.2720e-05 - val_output_layer_5_loss: 0.0010 - val_output_layer_6_loss: 0.0347 - val_output_layer_7_loss: 1.2601e-04 - val_output_layer_8_loss: 0.0068 - val_output_layer_9_loss: 0.0167 - val_output_layer_accuracy: 1.0000 - val_output_layer_1_accuracy: 1.0000 - val_output_layer_2_accuracy: 0.9985 - val_output_layer_3_accuracy: 0.9980 - val_output_layer_4_accuracy: 1.0000 - val_output_layer_5_accuracy: 1.0000 - val_output_layer_6_accuracy: 0.9870 - val_output_layer_7_accuracy: 1.0000 - val_output_layer_8_accuracy: 0.9980 - val_output_layer_9_accuracy: 0.9950\n",
      "Epoch 22/30\n",
      "80/80 [==============================] - 4s 55ms/step - loss: 0.0523 - output_layer_loss: 1.0267e-04 - output_layer_1_loss: 1.6235e-04 - output_layer_2_loss: 0.0034 - output_layer_3_loss: 0.0151 - output_layer_4_loss: 2.8557e-05 - output_layer_5_loss: 0.0027 - output_layer_6_loss: 0.0135 - output_layer_7_loss: 1.3052e-04 - output_layer_8_loss: 0.0031 - output_layer_9_loss: 0.0049 - output_layer_accuracy: 1.0000 - output_layer_1_accuracy: 1.0000 - output_layer_2_accuracy: 0.9995 - output_layer_3_accuracy: 0.9977 - output_layer_4_accuracy: 1.0000 - output_layer_5_accuracy: 0.9991 - output_layer_6_accuracy: 0.9974 - output_layer_7_accuracy: 1.0000 - output_layer_8_accuracy: 0.9994 - output_layer_9_accuracy: 0.9989 - val_loss: 0.0983 - val_output_layer_loss: 9.3839e-05 - val_output_layer_1_loss: 1.5722e-04 - val_output_layer_2_loss: 0.0023 - val_output_layer_3_loss: 0.0223 - val_output_layer_4_loss: 2.5835e-05 - val_output_layer_5_loss: 0.0059 - val_output_layer_6_loss: 0.0380 - val_output_layer_7_loss: 1.2573e-04 - val_output_layer_8_loss: 0.0074 - val_output_layer_9_loss: 0.0145 - val_output_layer_accuracy: 1.0000 - val_output_layer_1_accuracy: 1.0000 - val_output_layer_2_accuracy: 1.0000 - val_output_layer_3_accuracy: 0.9980 - val_output_layer_4_accuracy: 1.0000 - val_output_layer_5_accuracy: 0.9990 - val_output_layer_6_accuracy: 0.9870 - val_output_layer_7_accuracy: 1.0000 - val_output_layer_8_accuracy: 0.9970 - val_output_layer_9_accuracy: 0.9955\n",
      "Epoch 23/30\n",
      "80/80 [==============================] - 4s 55ms/step - loss: 0.0389 - output_layer_loss: 9.6171e-05 - output_layer_1_loss: 1.5745e-04 - output_layer_2_loss: 0.0038 - output_layer_3_loss: 0.0130 - output_layer_4_loss: 3.2242e-05 - output_layer_5_loss: 0.0017 - output_layer_6_loss: 0.0086 - output_layer_7_loss: 1.3041e-04 - output_layer_8_loss: 0.0024 - output_layer_9_loss: 0.0031 - output_layer_accuracy: 1.0000 - output_layer_1_accuracy: 1.0000 - output_layer_2_accuracy: 0.9991 - output_layer_3_accuracy: 0.9979 - output_layer_4_accuracy: 1.0000 - output_layer_5_accuracy: 0.9992 - output_layer_6_accuracy: 0.9990 - output_layer_7_accuracy: 1.0000 - output_layer_8_accuracy: 0.9994 - output_layer_9_accuracy: 0.9994 - val_loss: 0.0697 - val_output_layer_loss: 9.5677e-05 - val_output_layer_1_loss: 1.4861e-04 - val_output_layer_2_loss: 0.0018 - val_output_layer_3_loss: 0.0228 - val_output_layer_4_loss: 3.2502e-05 - val_output_layer_5_loss: 5.4525e-04 - val_output_layer_6_loss: 0.0224 - val_output_layer_7_loss: 1.3571e-04 - val_output_layer_8_loss: 0.0054 - val_output_layer_9_loss: 0.0112 - val_output_layer_accuracy: 1.0000 - val_output_layer_1_accuracy: 1.0000 - val_output_layer_2_accuracy: 1.0000 - val_output_layer_3_accuracy: 0.9980 - val_output_layer_4_accuracy: 1.0000 - val_output_layer_5_accuracy: 1.0000 - val_output_layer_6_accuracy: 0.9915 - val_output_layer_7_accuracy: 1.0000 - val_output_layer_8_accuracy: 0.9975 - val_output_layer_9_accuracy: 0.9955\n",
      "Epoch 24/30\n",
      "80/80 [==============================] - 4s 56ms/step - loss: 0.0315 - output_layer_loss: 8.6888e-05 - output_layer_1_loss: 1.3814e-04 - output_layer_2_loss: 0.0020 - output_layer_3_loss: 0.0119 - output_layer_4_loss: 3.2882e-05 - output_layer_5_loss: 4.3589e-04 - output_layer_6_loss: 0.0059 - output_layer_7_loss: 1.0602e-04 - output_layer_8_loss: 0.0019 - output_layer_9_loss: 0.0044 - output_layer_accuracy: 1.0000 - output_layer_1_accuracy: 1.0000 - output_layer_2_accuracy: 0.9998 - output_layer_3_accuracy: 0.9984 - output_layer_4_accuracy: 1.0000 - output_layer_5_accuracy: 1.0000 - output_layer_6_accuracy: 0.9995 - output_layer_7_accuracy: 1.0000 - output_layer_8_accuracy: 0.9999 - output_layer_9_accuracy: 0.9990 - val_loss: 0.0863 - val_output_layer_loss: 8.3279e-05 - val_output_layer_1_loss: 1.2284e-04 - val_output_layer_2_loss: 0.0016 - val_output_layer_3_loss: 0.0219 - val_output_layer_4_loss: 3.9483e-05 - val_output_layer_5_loss: 4.6172e-04 - val_output_layer_6_loss: 0.0233 - val_output_layer_7_loss: 6.8984e-05 - val_output_layer_8_loss: 0.0066 - val_output_layer_9_loss: 0.0278 - val_output_layer_accuracy: 1.0000 - val_output_layer_1_accuracy: 1.0000 - val_output_layer_2_accuracy: 1.0000 - val_output_layer_3_accuracy: 0.9980 - val_output_layer_4_accuracy: 1.0000 - val_output_layer_5_accuracy: 1.0000 - val_output_layer_6_accuracy: 0.9920 - val_output_layer_7_accuracy: 1.0000 - val_output_layer_8_accuracy: 0.9975 - val_output_layer_9_accuracy: 0.9910\n"
     ]
    },
    {
     "name": "stdout",
     "output_type": "stream",
     "text": [
      "Epoch 25/30\n",
      "80/80 [==============================] - 4s 56ms/step - loss: 0.0369 - output_layer_loss: 8.4557e-05 - output_layer_1_loss: 1.7664e-04 - output_layer_2_loss: 0.0022 - output_layer_3_loss: 0.0104 - output_layer_4_loss: 4.1099e-05 - output_layer_5_loss: 5.2041e-04 - output_layer_6_loss: 0.0063 - output_layer_7_loss: 1.2017e-04 - output_layer_8_loss: 0.0032 - output_layer_9_loss: 0.0086 - output_layer_accuracy: 1.0000 - output_layer_1_accuracy: 1.0000 - output_layer_2_accuracy: 0.9998 - output_layer_3_accuracy: 0.9979 - output_layer_4_accuracy: 1.0000 - output_layer_5_accuracy: 1.0000 - output_layer_6_accuracy: 0.9995 - output_layer_7_accuracy: 1.0000 - output_layer_8_accuracy: 0.9992 - output_layer_9_accuracy: 0.9981 - val_loss: 0.1155 - val_output_layer_loss: 7.5184e-05 - val_output_layer_1_loss: 1.3460e-04 - val_output_layer_2_loss: 0.0051 - val_output_layer_3_loss: 0.0368 - val_output_layer_4_loss: 4.5578e-05 - val_output_layer_5_loss: 5.3534e-04 - val_output_layer_6_loss: 0.0280 - val_output_layer_7_loss: 1.9162e-04 - val_output_layer_8_loss: 0.0112 - val_output_layer_9_loss: 0.0257 - val_output_layer_accuracy: 1.0000 - val_output_layer_1_accuracy: 1.0000 - val_output_layer_2_accuracy: 0.9985 - val_output_layer_3_accuracy: 0.9930 - val_output_layer_4_accuracy: 1.0000 - val_output_layer_5_accuracy: 1.0000 - val_output_layer_6_accuracy: 0.9900 - val_output_layer_7_accuracy: 1.0000 - val_output_layer_8_accuracy: 0.9980 - val_output_layer_9_accuracy: 0.9905\n",
      "Epoch 26/30\n",
      "80/80 [==============================] - 4s 56ms/step - loss: 0.0296 - output_layer_loss: 7.7568e-05 - output_layer_1_loss: 1.0289e-04 - output_layer_2_loss: 0.0020 - output_layer_3_loss: 0.0099 - output_layer_4_loss: 2.8820e-05 - output_layer_5_loss: 3.8114e-04 - output_layer_6_loss: 0.0054 - output_layer_7_loss: 1.5601e-04 - output_layer_8_loss: 0.0018 - output_layer_9_loss: 0.0027 - output_layer_accuracy: 1.0000 - output_layer_1_accuracy: 1.0000 - output_layer_2_accuracy: 0.9999 - output_layer_3_accuracy: 0.9980 - output_layer_4_accuracy: 1.0000 - output_layer_5_accuracy: 1.0000 - output_layer_6_accuracy: 0.9999 - output_layer_7_accuracy: 1.0000 - output_layer_8_accuracy: 0.9998 - output_layer_9_accuracy: 0.9995 - val_loss: 0.0582 - val_output_layer_loss: 7.0859e-05 - val_output_layer_1_loss: 9.5832e-05 - val_output_layer_2_loss: 0.0019 - val_output_layer_3_loss: 0.0206 - val_output_layer_4_loss: 2.7683e-05 - val_output_layer_5_loss: 6.1064e-04 - val_output_layer_6_loss: 0.0204 - val_output_layer_7_loss: 5.4100e-05 - val_output_layer_8_loss: 0.0041 - val_output_layer_9_loss: 0.0058 - val_output_layer_accuracy: 1.0000 - val_output_layer_1_accuracy: 1.0000 - val_output_layer_2_accuracy: 0.9995 - val_output_layer_3_accuracy: 0.9975 - val_output_layer_4_accuracy: 1.0000 - val_output_layer_5_accuracy: 1.0000 - val_output_layer_6_accuracy: 0.9920 - val_output_layer_7_accuracy: 1.0000 - val_output_layer_8_accuracy: 0.9985 - val_output_layer_9_accuracy: 0.9980\n",
      "Epoch 27/30\n",
      "80/80 [==============================] - 4s 56ms/step - loss: 0.0175 - output_layer_loss: 6.6678e-05 - output_layer_1_loss: 9.7408e-05 - output_layer_2_loss: 0.0023 - output_layer_3_loss: 0.0072 - output_layer_4_loss: 2.5153e-05 - output_layer_5_loss: 2.9259e-04 - output_layer_6_loss: 0.0025 - output_layer_7_loss: 5.8275e-05 - output_layer_8_loss: 8.2324e-04 - output_layer_9_loss: 8.6875e-04 - output_layer_accuracy: 1.0000 - output_layer_1_accuracy: 1.0000 - output_layer_2_accuracy: 0.9996 - output_layer_3_accuracy: 0.9985 - output_layer_4_accuracy: 1.0000 - output_layer_5_accuracy: 1.0000 - output_layer_6_accuracy: 1.0000 - output_layer_7_accuracy: 1.0000 - output_layer_8_accuracy: 1.0000 - output_layer_9_accuracy: 1.0000 - val_loss: 0.0607 - val_output_layer_loss: 6.5479e-05 - val_output_layer_1_loss: 1.1623e-04 - val_output_layer_2_loss: 0.0070 - val_output_layer_3_loss: 0.0255 - val_output_layer_4_loss: 1.8540e-05 - val_output_layer_5_loss: 3.0215e-04 - val_output_layer_6_loss: 0.0166 - val_output_layer_7_loss: 5.2336e-05 - val_output_layer_8_loss: 0.0029 - val_output_layer_9_loss: 0.0057 - val_output_layer_accuracy: 1.0000 - val_output_layer_1_accuracy: 1.0000 - val_output_layer_2_accuracy: 0.9985 - val_output_layer_3_accuracy: 0.9965 - val_output_layer_4_accuracy: 1.0000 - val_output_layer_5_accuracy: 1.0000 - val_output_layer_6_accuracy: 0.9930 - val_output_layer_7_accuracy: 1.0000 - val_output_layer_8_accuracy: 0.9990 - val_output_layer_9_accuracy: 0.9980\n",
      "Epoch 28/30\n",
      "80/80 [==============================] - 4s 56ms/step - loss: 0.0137 - output_layer_loss: 6.1841e-05 - output_layer_1_loss: 9.2862e-05 - output_layer_2_loss: 0.0015 - output_layer_3_loss: 0.0067 - output_layer_4_loss: 2.5174e-05 - output_layer_5_loss: 1.6901e-04 - output_layer_6_loss: 0.0019 - output_layer_7_loss: 4.7276e-05 - output_layer_8_loss: 5.2507e-04 - output_layer_9_loss: 6.6160e-04 - output_layer_accuracy: 1.0000 - output_layer_1_accuracy: 1.0000 - output_layer_2_accuracy: 0.9999 - output_layer_3_accuracy: 0.9990 - output_layer_4_accuracy: 1.0000 - output_layer_5_accuracy: 1.0000 - output_layer_6_accuracy: 1.0000 - output_layer_7_accuracy: 1.0000 - output_layer_8_accuracy: 1.0000 - output_layer_9_accuracy: 1.0000 - val_loss: 0.0511 - val_output_layer_loss: 5.7151e-05 - val_output_layer_1_loss: 9.7720e-05 - val_output_layer_2_loss: 0.0012 - val_output_layer_3_loss: 0.0233 - val_output_layer_4_loss: 1.9184e-05 - val_output_layer_5_loss: 5.0298e-04 - val_output_layer_6_loss: 0.0150 - val_output_layer_7_loss: 5.4724e-05 - val_output_layer_8_loss: 0.0031 - val_output_layer_9_loss: 0.0062 - val_output_layer_accuracy: 1.0000 - val_output_layer_1_accuracy: 1.0000 - val_output_layer_2_accuracy: 1.0000 - val_output_layer_3_accuracy: 0.9975 - val_output_layer_4_accuracy: 1.0000 - val_output_layer_5_accuracy: 1.0000 - val_output_layer_6_accuracy: 0.9935 - val_output_layer_7_accuracy: 1.0000 - val_output_layer_8_accuracy: 0.9995 - val_output_layer_9_accuracy: 0.9985\n",
      "Epoch 29/30\n",
      "80/80 [==============================] - 4s 55ms/step - loss: 0.0116 - output_layer_loss: 5.4998e-05 - output_layer_1_loss: 8.8975e-05 - output_layer_2_loss: 0.0013 - output_layer_3_loss: 0.0057 - output_layer_4_loss: 2.1291e-05 - output_layer_5_loss: 1.7022e-04 - output_layer_6_loss: 0.0017 - output_layer_7_loss: 4.2312e-05 - output_layer_8_loss: 5.1221e-04 - output_layer_9_loss: 6.2603e-04 - output_layer_accuracy: 1.0000 - output_layer_1_accuracy: 1.0000 - output_layer_2_accuracy: 0.9998 - output_layer_3_accuracy: 0.9987 - output_layer_4_accuracy: 1.0000 - output_layer_5_accuracy: 1.0000 - output_layer_6_accuracy: 1.0000 - output_layer_7_accuracy: 1.0000 - output_layer_8_accuracy: 1.0000 - output_layer_9_accuracy: 1.0000 - val_loss: 0.0575 - val_output_layer_loss: 5.5577e-05 - val_output_layer_1_loss: 8.9552e-05 - val_output_layer_2_loss: 0.0038 - val_output_layer_3_loss: 0.0247 - val_output_layer_4_loss: 2.2281e-05 - val_output_layer_5_loss: 3.8038e-04 - val_output_layer_6_loss: 0.0160 - val_output_layer_7_loss: 5.2956e-05 - val_output_layer_8_loss: 0.0031 - val_output_layer_9_loss: 0.0078 - val_output_layer_accuracy: 1.0000 - val_output_layer_1_accuracy: 1.0000 - val_output_layer_2_accuracy: 0.9990 - val_output_layer_3_accuracy: 0.9965 - val_output_layer_4_accuracy: 1.0000 - val_output_layer_5_accuracy: 1.0000 - val_output_layer_6_accuracy: 0.9930 - val_output_layer_7_accuracy: 1.0000 - val_output_layer_8_accuracy: 0.9990 - val_output_layer_9_accuracy: 0.9970\n",
      "Epoch 30/30\n"
     ]
    },
    {
     "name": "stdout",
     "output_type": "stream",
     "text": [
      "80/80 [==============================] - 4s 54ms/step - loss: 0.0098 - output_layer_loss: 5.3718e-05 - output_layer_1_loss: 8.9209e-05 - output_layer_2_loss: 0.0012 - output_layer_3_loss: 0.0045 - output_layer_4_loss: 2.4243e-05 - output_layer_5_loss: 1.6214e-04 - output_layer_6_loss: 0.0015 - output_layer_7_loss: 3.8575e-05 - output_layer_8_loss: 4.0580e-04 - output_layer_9_loss: 5.3906e-04 - output_layer_accuracy: 1.0000 - output_layer_1_accuracy: 1.0000 - output_layer_2_accuracy: 0.9999 - output_layer_3_accuracy: 0.9991 - output_layer_4_accuracy: 1.0000 - output_layer_5_accuracy: 1.0000 - output_layer_6_accuracy: 1.0000 - output_layer_7_accuracy: 1.0000 - output_layer_8_accuracy: 1.0000 - output_layer_9_accuracy: 1.0000 - val_loss: 0.0516 - val_output_layer_loss: 5.2318e-05 - val_output_layer_1_loss: 1.0079e-04 - val_output_layer_2_loss: 0.0013 - val_output_layer_3_loss: 0.0233 - val_output_layer_4_loss: 1.9203e-05 - val_output_layer_5_loss: 2.6136e-04 - val_output_layer_6_loss: 0.0139 - val_output_layer_7_loss: 3.6756e-05 - val_output_layer_8_loss: 0.0031 - val_output_layer_9_loss: 0.0084 - val_output_layer_accuracy: 1.0000 - val_output_layer_1_accuracy: 1.0000 - val_output_layer_2_accuracy: 0.9995 - val_output_layer_3_accuracy: 0.9970 - val_output_layer_4_accuracy: 1.0000 - val_output_layer_5_accuracy: 1.0000 - val_output_layer_6_accuracy: 0.9940 - val_output_layer_7_accuracy: 1.0000 - val_output_layer_8_accuracy: 0.9995 - val_output_layer_9_accuracy: 0.9975\n"
     ]
    }
   ],
   "source": [
    "history = model.fit(X, outputs, \n",
    "                    epochs = epochs, \n",
    "                    batch_size = 100,\n",
    "                    validation_split = 0.2,\n",
    "                    verbose = 1,\n",
    "                    callbacks = [tf.keras.callbacks.EarlyStopping(monitor = 'loss', \n",
    "                                                                  patience = 5)])"
   ]
  },
  {
   "cell_type": "code",
   "execution_count": 16,
   "metadata": {},
   "outputs": [
    {
     "data": {
      "text/plain": [
       "dict_keys(['loss', 'output_layer_loss', 'output_layer_1_loss', 'output_layer_2_loss', 'output_layer_3_loss', 'output_layer_4_loss', 'output_layer_5_loss', 'output_layer_6_loss', 'output_layer_7_loss', 'output_layer_8_loss', 'output_layer_9_loss', 'output_layer_accuracy', 'output_layer_1_accuracy', 'output_layer_2_accuracy', 'output_layer_3_accuracy', 'output_layer_4_accuracy', 'output_layer_5_accuracy', 'output_layer_6_accuracy', 'output_layer_7_accuracy', 'output_layer_8_accuracy', 'output_layer_9_accuracy', 'val_loss', 'val_output_layer_loss', 'val_output_layer_1_loss', 'val_output_layer_2_loss', 'val_output_layer_3_loss', 'val_output_layer_4_loss', 'val_output_layer_5_loss', 'val_output_layer_6_loss', 'val_output_layer_7_loss', 'val_output_layer_8_loss', 'val_output_layer_9_loss', 'val_output_layer_accuracy', 'val_output_layer_1_accuracy', 'val_output_layer_2_accuracy', 'val_output_layer_3_accuracy', 'val_output_layer_4_accuracy', 'val_output_layer_5_accuracy', 'val_output_layer_6_accuracy', 'val_output_layer_7_accuracy', 'val_output_layer_8_accuracy', 'val_output_layer_9_accuracy'])"
      ]
     },
     "execution_count": 16,
     "metadata": {},
     "output_type": "execute_result"
    }
   ],
   "source": [
    "history.history.keys()"
   ]
  },
  {
   "cell_type": "code",
   "execution_count": 17,
   "metadata": {},
   "outputs": [
    {
     "data": {
      "image/png": "[encoded data removed]",
      "text/plain": [
       "<Figure size 576x576 with 2 Axes>"
      ]
     },
     "metadata": {
      "needs_background": "light"
     },
     "output_type": "display_data"
    }
   ],
   "source": [
    "loss = history.history['loss'] \n",
    "val_loss = history.history['val_loss'] \n",
    "\n",
    "acc = history.history['output_layer_9_accuracy'] \n",
    "val_acc = history.history['val_output_layer_9_accuracy'] \n",
    "\n",
    "epochs_range = range(epochs)\n",
    "\n",
    "plt.figure(figsize=(8, 8)) \n",
    "plt.subplot(2, 1, 1) \n",
    "plt.plot(epochs_range, acc, label='Training Accuracy') \n",
    "plt.plot(epochs_range, val_acc, label='Validation Accuracy') \n",
    "plt.legend(loc='lower right') \n",
    "plt.title('Training and Validation Accuracy') \n",
    "\n",
    "plt.subplot(2, 1, 2) \n",
    "# plt.ylim(0, 5)\n",
    "plt.plot(epochs_range, loss, label='Training Loss') \n",
    "plt.plot(epochs_range, val_loss, label='Validation Loss') \n",
    "plt.legend(loc='upper right') \n",
    "plt.title('Training and Validation Loss') \n",
    "\n",
    "plt.show() "
   ]
  },
  {
   "cell_type": "markdown",
   "metadata": {},
   "source": [
    "While training you can see the loss as well as the accuracy on each of the 10 positions of the output. The table below gives you an example of what the accuracies could be if the batch had 2 examples: \n",
    "\n",
    "<img src=\"images/table.png\" style=\"width:700;height:200px;\"> <br>\n",
    "<caption><center>Thus, `dense_2_acc_8: 0.89` means that you are predicting the 7th character of the output correctly 89% of the time in the current batch of data. </center></caption>"
   ]
  },
  {
   "cell_type": "markdown",
   "metadata": {},
   "source": [
    "You can now see the results on new examples."
   ]
  },
  {
   "cell_type": "code",
   "execution_count": 18,
   "metadata": {},
   "outputs": [
    {
     "name": "stdout",
     "output_type": "stream",
     "text": [
      "[6, 0, 24, 13, 34, 0, 4, 12, 10, 12, 36, 36, 36, 36, 36, 36, 36, 36, 36, 36, 36, 36, 36, 36, 36, 36, 36, 36, 36, 36]\n"
     ]
    }
   ],
   "source": [
    "source = string_to_int('3 May 1979', Tx, human_vocab)\n",
    "print(source)"
   ]
  },
  {
   "cell_type": "code",
   "execution_count": 19,
   "metadata": {},
   "outputs": [
    {
     "name": "stdout",
     "output_type": "stream",
     "text": [
      "source: Wed 10 10 2009\n",
      "output: 2009-12-10 \n",
      "\n",
      "source: 5 April 09\n",
      "output: 2099-04-05 \n",
      "\n",
      "source: 21th of August 2016\n",
      "output: 2016-08-21 \n",
      "\n",
      "source: Tue 10 Jul 2007\n",
      "output: 2007-07-10 \n",
      "\n",
      "source: Saturday May 9 2018\n",
      "output: 2018-05-09 \n",
      "\n",
      "source: March 3 2001\n",
      "output: 2001-03-03 \n",
      "\n",
      "source: March 3rd 2001\n",
      "output: 2001-03-03 \n",
      "\n",
      "source: 11 March 2001\n",
      "output: 2001-03-11 \n",
      "\n"
     ]
    }
   ],
   "source": [
    "EXAMPLES = ['Wed 10 10 2009', '5 April 09', '21th of August 2016', 'Tue 10 Jul 2007', 'Saturday May 9 2018', 'March 3 2001', 'March 3rd 2001', '11 March 2001']\n",
    "for example in EXAMPLES:\n",
    "    \n",
    "    source = np.array(string_to_int(example, Tx, human_vocab)).reshape(1, -1)\n",
    "    prediction = model.predict(source)\n",
    "    prediction = np.argmax(prediction, axis = -1)\n",
    "    output = [inv_machine_vocab[int(i)] for i in prediction]\n",
    "    \n",
    "    print(\"source:\", example)\n",
    "    print(\"output:\", ''.join(output),\"\\n\")"
   ]
  },
  {
   "cell_type": "markdown",
   "metadata": {},
   "source": [
    "You can also change these examples to test with your own examples. The next part will give you a better sense of what the attention mechanism is doing--i.e., what part of the input the network is paying attention to when generating a particular output character. "
   ]
  },
  {
   "cell_type": "markdown",
   "metadata": {},
   "source": [
    "## 3 - Visualizing Attention (Optional / Ungraded)\n",
    "\n",
    "Since the problem has a fixed output length of 10, it is also possible to carry out this task using 10 different softmax units to generate the 10 characters of the output. But one advantage of the attention model is that each part of the output (such as the month) knows it needs to depend only on a small part of the input (the characters in the input giving the month). We can  visualize what each part of the output is looking at which part of the input.\n",
    "\n",
    "Consider the task of translating \"Saturday 9 May 2018\" to \"2018-05-09\". If we visualize the computed $\\alpha^{\\langle t, t' \\rangle}$ we get this: \n",
    "\n",
    "<img src=\"images/date_attention.png\" style=\"width:600;height:300px;\"> <br>\n",
    "<caption><center> **Figure 8**: Full Attention Map</center></caption>\n",
    "\n",
    "Notice how the output ignores the \"Saturday\" portion of the input. None of the output timesteps are paying much attention to that portion of the input. We also see that 9 has been translated as 09 and May has been correctly translated into 05, with the output paying attention to the parts of the input it needs to to make the translation. The year mostly requires it to pay attention to the input's \"18\" in order to generate \"2018.\" "
   ]
  },
  {
   "cell_type": "markdown",
   "metadata": {},
   "source": [
    "### 3.1 - Getting the attention weights from the network\n",
    "\n",
    "Lets now visualize the attention values in your network. We'll propagate an example through the network, then visualize the values of $\\alpha^{\\langle t, t' \\rangle}$. \n",
    "\n",
    "To figure out where the attention values are located, let's start by printing a summary of the model ."
   ]
  },
  {
   "cell_type": "code",
   "execution_count": 20,
   "metadata": {},
   "outputs": [
    {
     "name": "stdout",
     "output_type": "stream",
     "text": [
      "Model: \"model\"\n",
      "__________________________________________________________________________________________________\n",
      "Layer (type)                    Output Shape         Param #     Connected to                     \n",
      "==================================================================================================\n",
      "input_1 (InputLayer)            [(None, 30)]         0                                            \n",
      "__________________________________________________________________________________________________\n",
      "embedding (Embedding)           (None, 30, 16)       592         input_1[0][0]                    \n",
      "__________________________________________________________________________________________________\n",
      "bidirectional (Bidirectional)   [(None, 30, 128), (N 41472       embedding[0][0]                  \n",
      "__________________________________________________________________________________________________\n",
      "concatenate (Concatenate)       (None, 128)          0           bidirectional[0][1]              \n",
      "                                                                 bidirectional[0][3]              \n",
      "                                                                 bidirectional[0][2]              \n",
      "                                                                 bidirectional[0][4]              \n",
      "__________________________________________________________________________________________________\n",
      "tf_op_layer_ExpandDims (TensorF [(None, 1, 128)]     0           concatenate[0][0]                \n",
      "__________________________________________________________________________________________________\n",
      "atten_W_a (Dense)               (None, 30, 32)       4128        bidirectional[0][0]              \n",
      "                                                                 bidirectional[0][0]              \n",
      "                                                                 bidirectional[0][0]              \n",
      "                                                                 bidirectional[0][0]              \n",
      "                                                                 bidirectional[0][0]              \n",
      "                                                                 bidirectional[0][0]              \n",
      "                                                                 bidirectional[0][0]              \n",
      "                                                                 bidirectional[0][0]              \n",
      "                                                                 bidirectional[0][0]              \n",
      "                                                                 bidirectional[0][0]              \n",
      "__________________________________________________________________________________________________\n",
      "atten_W_t (Dense)               (None, 1, 32)        4128        tf_op_layer_ExpandDims[0][0]     \n",
      "                                                                 tf_op_layer_ExpandDims_1[0][0]   \n",
      "                                                                 tf_op_layer_ExpandDims_2[0][0]   \n",
      "                                                                 tf_op_layer_ExpandDims_3[0][0]   \n",
      "                                                                 tf_op_layer_ExpandDims_4[0][0]   \n",
      "                                                                 tf_op_layer_ExpandDims_5[0][0]   \n",
      "                                                                 tf_op_layer_ExpandDims_6[0][0]   \n",
      "                                                                 tf_op_layer_ExpandDims_7[0][0]   \n",
      "                                                                 tf_op_layer_ExpandDims_8[0][0]   \n",
      "                                                                 tf_op_layer_ExpandDims_9[0][0]   \n",
      "__________________________________________________________________________________________________\n",
      "tf_op_layer_AddV2 (TensorFlowOp [(None, 30, 32)]     0           atten_W_a[0][0]                  \n",
      "                                                                 atten_W_t[0][0]                  \n",
      "__________________________________________________________________________________________________\n",
      "atten_scores (Dense)            (None, 30, 1)        33          tf_op_layer_AddV2[0][0]          \n",
      "                                                                 tf_op_layer_AddV2_1[0][0]        \n",
      "                                                                 tf_op_layer_AddV2_2[0][0]        \n",
      "                                                                 tf_op_layer_AddV2_3[0][0]        \n",
      "                                                                 tf_op_layer_AddV2_4[0][0]        \n",
      "                                                                 tf_op_layer_AddV2_5[0][0]        \n",
      "                                                                 tf_op_layer_AddV2_6[0][0]        \n",
      "                                                                 tf_op_layer_AddV2_7[0][0]        \n",
      "                                                                 tf_op_layer_AddV2_8[0][0]        \n",
      "                                                                 tf_op_layer_AddV2_9[0][0]        \n",
      "__________________________________________________________________________________________________\n",
      "attention_weights (Softmax)     (None, 30, 1)        0           atten_scores[0][0]               \n",
      "                                                                 atten_scores[1][0]               \n",
      "                                                                 atten_scores[2][0]               \n",
      "                                                                 atten_scores[3][0]               \n",
      "                                                                 atten_scores[4][0]               \n",
      "                                                                 atten_scores[5][0]               \n",
      "                                                                 atten_scores[6][0]               \n",
      "                                                                 atten_scores[7][0]               \n",
      "                                                                 atten_scores[8][0]               \n",
      "                                                                 atten_scores[9][0]               \n",
      "__________________________________________________________________________________________________\n",
      "dot_1 (Dot)                     (None, 1, 128)       0           attention_weights[0][0]          \n",
      "                                                                 bidirectional[0][0]              \n",
      "                                                                 attention_weights[1][0]          \n",
      "                                                                 bidirectional[0][0]              \n",
      "                                                                 attention_weights[2][0]          \n",
      "                                                                 bidirectional[0][0]              \n",
      "                                                                 attention_weights[3][0]          \n",
      "                                                                 bidirectional[0][0]              \n",
      "                                                                 attention_weights[4][0]          \n",
      "                                                                 bidirectional[0][0]              \n",
      "                                                                 attention_weights[5][0]          \n",
      "                                                                 bidirectional[0][0]              \n",
      "                                                                 attention_weights[6][0]          \n",
      "                                                                 bidirectional[0][0]              \n",
      "                                                                 attention_weights[7][0]          \n",
      "                                                                 bidirectional[0][0]              \n",
      "                                                                 attention_weights[8][0]          \n",
      "                                                                 bidirectional[0][0]              \n",
      "                                                                 attention_weights[9][0]          \n",
      "                                                                 bidirectional[0][0]              \n",
      "__________________________________________________________________________________________________\n",
      "lstm (LSTM)                     [(None, 128), (None, 131584      dot_1[0][0]                      \n",
      "                                                                 concatenate[0][0]                \n",
      "                                                                 concatenate[1][0]                \n",
      "                                                                 dot_1[1][0]                      \n",
      "                                                                 lstm[0][1]                       \n",
      "                                                                 lstm[0][2]                       \n",
      "                                                                 dot_1[2][0]                      \n",
      "                                                                 lstm[1][1]                       \n",
      "                                                                 lstm[1][2]                       \n",
      "                                                                 dot_1[3][0]                      \n",
      "                                                                 lstm[2][1]                       \n",
      "                                                                 lstm[2][2]                       \n",
      "                                                                 dot_1[4][0]                      \n",
      "                                                                 lstm[3][1]                       \n",
      "                                                                 lstm[3][2]                       \n",
      "                                                                 dot_1[5][0]                      \n",
      "                                                                 lstm[4][1]                       \n",
      "                                                                 lstm[4][2]                       \n",
      "                                                                 dot_1[6][0]                      \n",
      "                                                                 lstm[5][1]                       \n",
      "                                                                 lstm[5][2]                       \n",
      "                                                                 dot_1[7][0]                      \n",
      "                                                                 lstm[6][1]                       \n",
      "                                                                 lstm[6][2]                       \n",
      "                                                                 dot_1[8][0]                      \n",
      "                                                                 lstm[7][1]                       \n",
      "                                                                 lstm[7][2]                       \n",
      "                                                                 dot_1[9][0]                      \n",
      "                                                                 lstm[8][1]                       \n",
      "                                                                 lstm[8][2]                       \n",
      "__________________________________________________________________________________________________\n",
      "tf_op_layer_ExpandDims_1 (Tenso [(None, 1, 128)]     0           lstm[0][1]                       \n",
      "__________________________________________________________________________________________________\n",
      "tf_op_layer_AddV2_1 (TensorFlow [(None, 30, 32)]     0           atten_W_a[1][0]                  \n",
      "                                                                 atten_W_t[1][0]                  \n",
      "__________________________________________________________________________________________________\n",
      "tf_op_layer_ExpandDims_2 (Tenso [(None, 1, 128)]     0           lstm[1][1]                       \n",
      "__________________________________________________________________________________________________\n",
      "tf_op_layer_AddV2_2 (TensorFlow [(None, 30, 32)]     0           atten_W_a[2][0]                  \n",
      "                                                                 atten_W_t[2][0]                  \n",
      "__________________________________________________________________________________________________\n",
      "tf_op_layer_ExpandDims_3 (Tenso [(None, 1, 128)]     0           lstm[2][1]                       \n",
      "__________________________________________________________________________________________________\n",
      "tf_op_layer_AddV2_3 (TensorFlow [(None, 30, 32)]     0           atten_W_a[3][0]                  \n",
      "                                                                 atten_W_t[3][0]                  \n",
      "__________________________________________________________________________________________________\n",
      "tf_op_layer_ExpandDims_4 (Tenso [(None, 1, 128)]     0           lstm[3][1]                       \n",
      "__________________________________________________________________________________________________\n",
      "tf_op_layer_AddV2_4 (TensorFlow [(None, 30, 32)]     0           atten_W_a[4][0]                  \n",
      "                                                                 atten_W_t[4][0]                  \n",
      "__________________________________________________________________________________________________\n",
      "tf_op_layer_ExpandDims_5 (Tenso [(None, 1, 128)]     0           lstm[4][1]                       \n",
      "__________________________________________________________________________________________________\n",
      "tf_op_layer_AddV2_5 (TensorFlow [(None, 30, 32)]     0           atten_W_a[5][0]                  \n",
      "                                                                 atten_W_t[5][0]                  \n",
      "__________________________________________________________________________________________________\n",
      "tf_op_layer_ExpandDims_6 (Tenso [(None, 1, 128)]     0           lstm[5][1]                       \n",
      "__________________________________________________________________________________________________\n",
      "tf_op_layer_AddV2_6 (TensorFlow [(None, 30, 32)]     0           atten_W_a[6][0]                  \n",
      "                                                                 atten_W_t[6][0]                  \n",
      "__________________________________________________________________________________________________\n",
      "tf_op_layer_ExpandDims_7 (Tenso [(None, 1, 128)]     0           lstm[6][1]                       \n",
      "__________________________________________________________________________________________________\n",
      "tf_op_layer_AddV2_7 (TensorFlow [(None, 30, 32)]     0           atten_W_a[7][0]                  \n",
      "                                                                 atten_W_t[7][0]                  \n",
      "__________________________________________________________________________________________________\n",
      "tf_op_layer_ExpandDims_8 (Tenso [(None, 1, 128)]     0           lstm[7][1]                       \n",
      "__________________________________________________________________________________________________\n",
      "tf_op_layer_AddV2_8 (TensorFlow [(None, 30, 32)]     0           atten_W_a[8][0]                  \n",
      "                                                                 atten_W_t[8][0]                  \n",
      "__________________________________________________________________________________________________\n",
      "tf_op_layer_ExpandDims_9 (Tenso [(None, 1, 128)]     0           lstm[8][1]                       \n",
      "__________________________________________________________________________________________________\n",
      "tf_op_layer_AddV2_9 (TensorFlow [(None, 30, 32)]     0           atten_W_a[9][0]                  \n",
      "                                                                 atten_W_t[9][0]                  \n",
      "__________________________________________________________________________________________________\n",
      "reshape (Reshape)               (None, 128)          0           lstm[0][0]                       \n",
      "                                                                 lstm[1][0]                       \n",
      "                                                                 lstm[2][0]                       \n",
      "                                                                 lstm[3][0]                       \n",
      "                                                                 lstm[4][0]                       \n",
      "                                                                 lstm[5][0]                       \n",
      "                                                                 lstm[6][0]                       \n",
      "                                                                 lstm[7][0]                       \n",
      "                                                                 lstm[8][0]                       \n",
      "                                                                 lstm[9][0]                       \n",
      "__________________________________________________________________________________________________\n",
      "output_layer (Dense)            (None, 11)           1419        reshape[0][0]                    \n",
      "                                                                 reshape[1][0]                    \n",
      "                                                                 reshape[2][0]                    \n",
      "                                                                 reshape[3][0]                    \n",
      "                                                                 reshape[4][0]                    \n",
      "                                                                 reshape[5][0]                    \n",
      "                                                                 reshape[6][0]                    \n",
      "                                                                 reshape[7][0]                    \n",
      "                                                                 reshape[8][0]                    \n",
      "                                                                 reshape[9][0]                    \n",
      "==================================================================================================\n",
      "Total params: 183,356\n",
      "Trainable params: 183,356\n",
      "Non-trainable params: 0\n",
      "__________________________________________________________________________________________________\n"
     ]
    }
   ],
   "source": [
    "model.summary()"
   ]
  },
  {
   "cell_type": "markdown",
   "metadata": {},
   "source": [
    "Navigate through the output of `model.summary()` above. You can see that the layer named `attention_weights` outputs the `alphas` of shape (m, 30, 1) before `dot_2` computes the context vector for every time step $t = 0, \\ldots, T_y-1$. Let's get the attention weights from this layer.\n",
    "\n",
    "The function `attention_map()` pulls out the attention values from your model and plots them."
   ]
  },
  {
   "cell_type": "code",
   "execution_count": 21,
   "metadata": {
    "scrolled": false
   },
   "outputs": [
    {
     "data": {
      "text/plain": [
       "<Figure size 432x288 with 0 Axes>"
      ]
     },
     "metadata": {},
     "output_type": "display_data"
    },
    {
     "data": {
      "image/png": "[encoded data removed]",
      "text/plain": [
       "<Figure size 576x612 with 2 Axes>"
      ]
     },
     "metadata": {
      "needs_background": "light"
     },
     "output_type": "display_data"
    }
   ],
   "source": [
    "attention_map = plot_attention_map(model,\n",
    "                                   human_vocab,\n",
    "                                   inv_machine_vocab, \n",
    "                                   \"Tuesday 3 April 1987\", \n",
    "                                   \"attention_weights\");"
   ]
  },
  {
   "cell_type": "markdown",
   "metadata": {},
   "source": [
    "On the generated plot you can observe the values of the attention weights for each character of the predicted output. Examine this plot and check that the places where the network is paying attention makes sense to you.\n",
    "\n",
    "In the date translation application, you will observe that most of the time attention helps predict the year, and doesn't have much impact on predicting the day or month."
   ]
  },
  {
   "cell_type": "markdown",
   "metadata": {},
   "source": [
    "### Congratulations!\n",
    "\n",
    "\n",
    "You have come to the end of this assignment \n",
    "\n",
    "## Here's what you should remember\n",
    "\n",
    "- Machine translation models can be used to map from one sequence to another. They are useful not just for translating human languages (like French->English) but also for tasks like date format translation. \n",
    "- An attention mechanism allows a network to focus on the most relevant parts of the input when producing a specific part of the output. \n",
    "- A network using an attention mechanism can translate from inputs of length $T_x$ to outputs of length $T_y$, where $T_x$ and $T_y$ can be different. \n",
    "- You can visualize attention weights $\\alpha^{\\langle t,t' \\rangle}$ to see what the network is paying attention to while generating each output."
   ]
  },
  {
   "cell_type": "markdown",
   "metadata": {},
   "source": [
    "Congratulations on finishing this assignment! You are now able to implement an attention model and use it to learn complex mappings from one sequence to another. "
   ]
  }
 ],
 "metadata": {
  "coursera": {
   "course_slug": "nlp-sequence-models",
   "graded_item_id": "n16CQ",
   "launcher_item_id": "npjGi"
  },
  "kernelspec": {
   "display_name": "Python 3",
   "language": "python",
   "name": "python3"
  },
  "language_info": {
   "codemirror_mode": {
    "name": "ipython",
    "version": 3
   },
   "file_extension": ".py",
   "mimetype": "text/x-python",
   "name": "python",
   "nbconvert_exporter": "python",
   "pygments_lexer": "ipython3",
   "version": "3.6.9"
  }
 },
 "nbformat": 4,
 "nbformat_minor": 2
}
